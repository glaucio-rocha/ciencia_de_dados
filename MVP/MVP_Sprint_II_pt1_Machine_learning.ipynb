{
  "cells": [
    {
      "cell_type": "markdown",
      "metadata": {
        "id": "view-in-github",
        "colab_type": "text"
      },
      "source": [
        "<a href=\"https://colab.research.google.com/github/glaucio-rocha/ciencia_de_dados/blob/main/MVP/MVP_Sprint_II_pt1_Machine_learning.ipynb\" target=\"_parent\"><img src=\"https://colab.research.google.com/assets/colab-badge.svg\" alt=\"Open In Colab\"/></a>"
      ]
    },
    {
      "cell_type": "markdown",
      "id": "864319c2-6a2c-444d-8e2f-e28e6048cb03",
      "metadata": {
        "id": "864319c2-6a2c-444d-8e2f-e28e6048cb03"
      },
      "source": [
        "# MVP Machine Learning e Deep Learning (Sprint 2)\n",
        "## Ciência de Dados & Analytics\n",
        "### Aluno: Glaucio A. Rocha\n",
        "### Entrega: 2023-07-23\n",
        "---"
      ]
    },
    {
      "cell_type": "code",
      "execution_count": 1,
      "id": "sx6M2dxP4_3o",
      "metadata": {
        "id": "sx6M2dxP4_3o",
        "colab": {
          "base_uri": "https://localhost:8080/"
        },
        "outputId": "3f17948b-b430-4386-f135-6861be454bc3"
      },
      "outputs": [
        {
          "output_type": "stream",
          "name": "stdout",
          "text": [
            "Requirement already satisfied: seaborn in /usr/local/lib/python3.10/dist-packages (0.12.2)\n",
            "Requirement already satisfied: xgboost in /usr/local/lib/python3.10/dist-packages (1.7.6)\n",
            "Collecting imblearn\n",
            "  Downloading imblearn-0.0-py2.py3-none-any.whl (1.9 kB)\n",
            "Requirement already satisfied: lightgbm in /usr/local/lib/python3.10/dist-packages (3.3.5)\n",
            "Requirement already satisfied: numpy!=1.24.0,>=1.17 in /usr/local/lib/python3.10/dist-packages (from seaborn) (1.22.4)\n",
            "Requirement already satisfied: pandas>=0.25 in /usr/local/lib/python3.10/dist-packages (from seaborn) (1.5.3)\n",
            "Requirement already satisfied: matplotlib!=3.6.1,>=3.1 in /usr/local/lib/python3.10/dist-packages (from seaborn) (3.7.1)\n",
            "Requirement already satisfied: scipy in /usr/local/lib/python3.10/dist-packages (from xgboost) (1.10.1)\n",
            "Requirement already satisfied: imbalanced-learn in /usr/local/lib/python3.10/dist-packages (from imblearn) (0.10.1)\n",
            "Requirement already satisfied: wheel in /usr/local/lib/python3.10/dist-packages (from lightgbm) (0.40.0)\n",
            "Requirement already satisfied: scikit-learn!=0.22.0 in /usr/local/lib/python3.10/dist-packages (from lightgbm) (1.2.2)\n",
            "Requirement already satisfied: contourpy>=1.0.1 in /usr/local/lib/python3.10/dist-packages (from matplotlib!=3.6.1,>=3.1->seaborn) (1.1.0)\n",
            "Requirement already satisfied: cycler>=0.10 in /usr/local/lib/python3.10/dist-packages (from matplotlib!=3.6.1,>=3.1->seaborn) (0.11.0)\n",
            "Requirement already satisfied: fonttools>=4.22.0 in /usr/local/lib/python3.10/dist-packages (from matplotlib!=3.6.1,>=3.1->seaborn) (4.41.0)\n",
            "Requirement already satisfied: kiwisolver>=1.0.1 in /usr/local/lib/python3.10/dist-packages (from matplotlib!=3.6.1,>=3.1->seaborn) (1.4.4)\n",
            "Requirement already satisfied: packaging>=20.0 in /usr/local/lib/python3.10/dist-packages (from matplotlib!=3.6.1,>=3.1->seaborn) (23.1)\n",
            "Requirement already satisfied: pillow>=6.2.0 in /usr/local/lib/python3.10/dist-packages (from matplotlib!=3.6.1,>=3.1->seaborn) (8.4.0)\n",
            "Requirement already satisfied: pyparsing>=2.3.1 in /usr/local/lib/python3.10/dist-packages (from matplotlib!=3.6.1,>=3.1->seaborn) (3.1.0)\n",
            "Requirement already satisfied: python-dateutil>=2.7 in /usr/local/lib/python3.10/dist-packages (from matplotlib!=3.6.1,>=3.1->seaborn) (2.8.2)\n",
            "Requirement already satisfied: pytz>=2020.1 in /usr/local/lib/python3.10/dist-packages (from pandas>=0.25->seaborn) (2022.7.1)\n",
            "Requirement already satisfied: joblib>=1.1.1 in /usr/local/lib/python3.10/dist-packages (from scikit-learn!=0.22.0->lightgbm) (1.3.1)\n",
            "Requirement already satisfied: threadpoolctl>=2.0.0 in /usr/local/lib/python3.10/dist-packages (from scikit-learn!=0.22.0->lightgbm) (3.2.0)\n",
            "Requirement already satisfied: six>=1.5 in /usr/local/lib/python3.10/dist-packages (from python-dateutil>=2.7->matplotlib!=3.6.1,>=3.1->seaborn) (1.16.0)\n",
            "Installing collected packages: imblearn\n",
            "Successfully installed imblearn-0.0\n"
          ]
        }
      ],
      "source": [
        "!pip install seaborn xgboost imblearn lightgbm"
      ]
    },
    {
      "cell_type": "markdown",
      "id": "5e66a151-ac55-4340-8ff4-fe401b0fbb70",
      "metadata": {
        "id": "5e66a151-ac55-4340-8ff4-fe401b0fbb70"
      },
      "source": [
        "## Parte 1 - Machine Learning"
      ]
    },
    {
      "cell_type": "markdown",
      "id": "a16d8d65-0b8c-46c8-85e4-95f6a23bf1bb",
      "metadata": {
        "id": "a16d8d65-0b8c-46c8-85e4-95f6a23bf1bb"
      },
      "source": [
        "### Definição do Problema\n",
        "\n",
        "#### Descrição do problema\n",
        "\n",
        "A identificação remota de árvores doentes em regiões mais remotas, ou em plantações de árvores frutíferas, pode se transformar em um grande problema a depender da extensão da plantação (ou da floresta).\n",
        "Alguns indivíduos doentes podem não estar no campo de visão de operadores humanos, que devem se deslocar, em locais de dificil acesso e com uma visão reduzida da totalidade de elementos a serem monitorados.\n",
        "\n",
        "#### Premissas e hipóteses\n",
        "\n",
        "Este MVP assume como hipótese, a existência de dados de radar e multispectrais com resolução espacial e temporal adequadas, para realizar este monitoramento.\n",
        "\n",
        "Assumimos como premisa a utilização de um Dataset pré-otimizado, já que não é o objetivo desta atividade a preparação de dados com rigor cartográfico, feito a partir de dados de imagens multispectrais e de radar oriundos de diversos satélites.\n",
        "\n"
      ]
    },
    {
      "cell_type": "markdown",
      "id": "26b3d660-3b2c-4406-a6c5-5895cf8b7e2e",
      "metadata": {
        "id": "26b3d660-3b2c-4406-a6c5-5895cf8b7e2e"
      },
      "source": [
        "#### 1.1.4 Descrição do dataset\n",
        "\n",
        "Este conjunto de dados contém alguns dados de treinamento e teste de um estudo de sensoriamento remoto realizado por Johnson et al. (2013), que envolveu a detecção de árvores doentes em imagens do satélite Quickbird. Há poucas amostras de treinamento para a classe de 'árvores doentes' (74) e muitas para a classe de 'outros tipos de cobertura terrestre' (4265).\n",
        "\n",
        "O conjunto de dados consiste em segmentos de imagens, gerados através da segmentação da imagem de satélite. Os segmentos contêm informações espectrais das bandas multiespectrais da imagem Quickbird e informações de textura da banda da imagem pancromática (Pan)."
      ]
    },
    {
      "cell_type": "code",
      "execution_count": 2,
      "id": "586afb8d-4821-44e9-8a37-d7f68faed40e",
      "metadata": {
        "id": "586afb8d-4821-44e9-8a37-d7f68faed40e"
      },
      "outputs": [],
      "source": [
        "# Preparação do ambiente\n",
        "import warnings\n",
        "warnings.filterwarnings(\"ignore\")\n",
        "\n",
        "# Imports necessários\n",
        "import pandas as pd\n",
        "import numpy as np\n",
        "import matplotlib.pyplot as plt\n",
        "import seaborn as sns\n",
        "from sklearn.preprocessing import StandardScaler\n",
        "from sklearn.preprocessing import MinMaxScaler\n",
        "from sklearn.model_selection import train_test_split\n",
        "from sklearn.model_selection import KFold\n",
        "from sklearn.model_selection import StratifiedKFold\n",
        "from sklearn.model_selection import cross_val_score\n",
        "from sklearn.model_selection import GridSearchCV\n",
        "from sklearn.metrics import accuracy_score\n",
        "from sklearn.pipeline import Pipeline\n",
        "from joblib import parallel_backend\n"
      ]
    },
    {
      "cell_type": "code",
      "execution_count": 3,
      "id": "6ff8657f-eef9-445a-9f09-dc8728532953",
      "metadata": {
        "colab": {
          "base_uri": "https://localhost:8080/",
          "height": 206
        },
        "id": "6ff8657f-eef9-445a-9f09-dc8728532953",
        "outputId": "f3df73b2-6591-4e41-dc93-06f26c32d060"
      },
      "outputs": [
        {
          "output_type": "execute_result",
          "data": {
            "text/plain": [
              "   label    GLCM_Pan      Mean_G      Mean_R    Mean_NIR     SD_Pan\n",
              "0      0  109.828571  183.700000   82.950000  251.750000  16.079412\n",
              "1      0  130.284483  212.637931   96.896552  482.396552  21.210295\n",
              "2      0  131.386555  185.466667   85.466667  419.666667  13.339998\n",
              "3      0  141.345098  180.875000   81.500000  348.062500  18.213577\n",
              "4      1  121.383408  218.357143  112.017857  426.607143  19.083196"
            ],
            "text/html": [
              "\n",
              "\n",
              "  <div id=\"df-1237847c-125e-49be-82f6-616f14962c15\">\n",
              "    <div class=\"colab-df-container\">\n",
              "      <div>\n",
              "<style scoped>\n",
              "    .dataframe tbody tr th:only-of-type {\n",
              "        vertical-align: middle;\n",
              "    }\n",
              "\n",
              "    .dataframe tbody tr th {\n",
              "        vertical-align: top;\n",
              "    }\n",
              "\n",
              "    .dataframe thead th {\n",
              "        text-align: right;\n",
              "    }\n",
              "</style>\n",
              "<table border=\"1\" class=\"dataframe\">\n",
              "  <thead>\n",
              "    <tr style=\"text-align: right;\">\n",
              "      <th></th>\n",
              "      <th>label</th>\n",
              "      <th>GLCM_Pan</th>\n",
              "      <th>Mean_G</th>\n",
              "      <th>Mean_R</th>\n",
              "      <th>Mean_NIR</th>\n",
              "      <th>SD_Pan</th>\n",
              "    </tr>\n",
              "  </thead>\n",
              "  <tbody>\n",
              "    <tr>\n",
              "      <th>0</th>\n",
              "      <td>0</td>\n",
              "      <td>109.828571</td>\n",
              "      <td>183.700000</td>\n",
              "      <td>82.950000</td>\n",
              "      <td>251.750000</td>\n",
              "      <td>16.079412</td>\n",
              "    </tr>\n",
              "    <tr>\n",
              "      <th>1</th>\n",
              "      <td>0</td>\n",
              "      <td>130.284483</td>\n",
              "      <td>212.637931</td>\n",
              "      <td>96.896552</td>\n",
              "      <td>482.396552</td>\n",
              "      <td>21.210295</td>\n",
              "    </tr>\n",
              "    <tr>\n",
              "      <th>2</th>\n",
              "      <td>0</td>\n",
              "      <td>131.386555</td>\n",
              "      <td>185.466667</td>\n",
              "      <td>85.466667</td>\n",
              "      <td>419.666667</td>\n",
              "      <td>13.339998</td>\n",
              "    </tr>\n",
              "    <tr>\n",
              "      <th>3</th>\n",
              "      <td>0</td>\n",
              "      <td>141.345098</td>\n",
              "      <td>180.875000</td>\n",
              "      <td>81.500000</td>\n",
              "      <td>348.062500</td>\n",
              "      <td>18.213577</td>\n",
              "    </tr>\n",
              "    <tr>\n",
              "      <th>4</th>\n",
              "      <td>1</td>\n",
              "      <td>121.383408</td>\n",
              "      <td>218.357143</td>\n",
              "      <td>112.017857</td>\n",
              "      <td>426.607143</td>\n",
              "      <td>19.083196</td>\n",
              "    </tr>\n",
              "  </tbody>\n",
              "</table>\n",
              "</div>\n",
              "      <button class=\"colab-df-convert\" onclick=\"convertToInteractive('df-1237847c-125e-49be-82f6-616f14962c15')\"\n",
              "              title=\"Convert this dataframe to an interactive table.\"\n",
              "              style=\"display:none;\">\n",
              "\n",
              "  <svg xmlns=\"http://www.w3.org/2000/svg\" height=\"24px\"viewBox=\"0 0 24 24\"\n",
              "       width=\"24px\">\n",
              "    <path d=\"M0 0h24v24H0V0z\" fill=\"none\"/>\n",
              "    <path d=\"M18.56 5.44l.94 2.06.94-2.06 2.06-.94-2.06-.94-.94-2.06-.94 2.06-2.06.94zm-11 1L8.5 8.5l.94-2.06 2.06-.94-2.06-.94L8.5 2.5l-.94 2.06-2.06.94zm10 10l.94 2.06.94-2.06 2.06-.94-2.06-.94-.94-2.06-.94 2.06-2.06.94z\"/><path d=\"M17.41 7.96l-1.37-1.37c-.4-.4-.92-.59-1.43-.59-.52 0-1.04.2-1.43.59L10.3 9.45l-7.72 7.72c-.78.78-.78 2.05 0 2.83L4 21.41c.39.39.9.59 1.41.59.51 0 1.02-.2 1.41-.59l7.78-7.78 2.81-2.81c.8-.78.8-2.07 0-2.86zM5.41 20L4 18.59l7.72-7.72 1.47 1.35L5.41 20z\"/>\n",
              "  </svg>\n",
              "      </button>\n",
              "\n",
              "\n",
              "\n",
              "    <div id=\"df-c2b225c0-e269-4b19-9485-50e27b2a4599\">\n",
              "      <button class=\"colab-df-quickchart\" onclick=\"quickchart('df-c2b225c0-e269-4b19-9485-50e27b2a4599')\"\n",
              "              title=\"Suggest charts.\"\n",
              "              style=\"display:none;\">\n",
              "\n",
              "<svg xmlns=\"http://www.w3.org/2000/svg\" height=\"24px\"viewBox=\"0 0 24 24\"\n",
              "     width=\"24px\">\n",
              "    <g>\n",
              "        <path d=\"M19 3H5c-1.1 0-2 .9-2 2v14c0 1.1.9 2 2 2h14c1.1 0 2-.9 2-2V5c0-1.1-.9-2-2-2zM9 17H7v-7h2v7zm4 0h-2V7h2v10zm4 0h-2v-4h2v4z\"/>\n",
              "    </g>\n",
              "</svg>\n",
              "      </button>\n",
              "    </div>\n",
              "\n",
              "<style>\n",
              "  .colab-df-quickchart {\n",
              "    background-color: #E8F0FE;\n",
              "    border: none;\n",
              "    border-radius: 50%;\n",
              "    cursor: pointer;\n",
              "    display: none;\n",
              "    fill: #1967D2;\n",
              "    height: 32px;\n",
              "    padding: 0 0 0 0;\n",
              "    width: 32px;\n",
              "  }\n",
              "\n",
              "  .colab-df-quickchart:hover {\n",
              "    background-color: #E2EBFA;\n",
              "    box-shadow: 0px 1px 2px rgba(60, 64, 67, 0.3), 0px 1px 3px 1px rgba(60, 64, 67, 0.15);\n",
              "    fill: #174EA6;\n",
              "  }\n",
              "\n",
              "  [theme=dark] .colab-df-quickchart {\n",
              "    background-color: #3B4455;\n",
              "    fill: #D2E3FC;\n",
              "  }\n",
              "\n",
              "  [theme=dark] .colab-df-quickchart:hover {\n",
              "    background-color: #434B5C;\n",
              "    box-shadow: 0px 1px 3px 1px rgba(0, 0, 0, 0.15);\n",
              "    filter: drop-shadow(0px 1px 2px rgba(0, 0, 0, 0.3));\n",
              "    fill: #FFFFFF;\n",
              "  }\n",
              "</style>\n",
              "\n",
              "    <script>\n",
              "      async function quickchart(key) {\n",
              "        const containerElement = document.querySelector('#' + key);\n",
              "        const charts = await google.colab.kernel.invokeFunction(\n",
              "            'suggestCharts', [key], {});\n",
              "      }\n",
              "    </script>\n",
              "\n",
              "      <script>\n",
              "\n",
              "function displayQuickchartButton(domScope) {\n",
              "  let quickchartButtonEl =\n",
              "    domScope.querySelector('#df-c2b225c0-e269-4b19-9485-50e27b2a4599 button.colab-df-quickchart');\n",
              "  quickchartButtonEl.style.display =\n",
              "    google.colab.kernel.accessAllowed ? 'block' : 'none';\n",
              "}\n",
              "\n",
              "        displayQuickchartButton(document);\n",
              "      </script>\n",
              "      <style>\n",
              "    .colab-df-container {\n",
              "      display:flex;\n",
              "      flex-wrap:wrap;\n",
              "      gap: 12px;\n",
              "    }\n",
              "\n",
              "    .colab-df-convert {\n",
              "      background-color: #E8F0FE;\n",
              "      border: none;\n",
              "      border-radius: 50%;\n",
              "      cursor: pointer;\n",
              "      display: none;\n",
              "      fill: #1967D2;\n",
              "      height: 32px;\n",
              "      padding: 0 0 0 0;\n",
              "      width: 32px;\n",
              "    }\n",
              "\n",
              "    .colab-df-convert:hover {\n",
              "      background-color: #E2EBFA;\n",
              "      box-shadow: 0px 1px 2px rgba(60, 64, 67, 0.3), 0px 1px 3px 1px rgba(60, 64, 67, 0.15);\n",
              "      fill: #174EA6;\n",
              "    }\n",
              "\n",
              "    [theme=dark] .colab-df-convert {\n",
              "      background-color: #3B4455;\n",
              "      fill: #D2E3FC;\n",
              "    }\n",
              "\n",
              "    [theme=dark] .colab-df-convert:hover {\n",
              "      background-color: #434B5C;\n",
              "      box-shadow: 0px 1px 3px 1px rgba(0, 0, 0, 0.15);\n",
              "      filter: drop-shadow(0px 1px 2px rgba(0, 0, 0, 0.3));\n",
              "      fill: #FFFFFF;\n",
              "    }\n",
              "  </style>\n",
              "\n",
              "      <script>\n",
              "        const buttonEl =\n",
              "          document.querySelector('#df-1237847c-125e-49be-82f6-616f14962c15 button.colab-df-convert');\n",
              "        buttonEl.style.display =\n",
              "          google.colab.kernel.accessAllowed ? 'block' : 'none';\n",
              "\n",
              "        async function convertToInteractive(key) {\n",
              "          const element = document.querySelector('#df-1237847c-125e-49be-82f6-616f14962c15');\n",
              "          const dataTable =\n",
              "            await google.colab.kernel.invokeFunction('convertToInteractive',\n",
              "                                                     [key], {});\n",
              "          if (!dataTable) return;\n",
              "\n",
              "          const docLinkHtml = 'Like what you see? Visit the ' +\n",
              "            '<a target=\"_blank\" href=https://colab.research.google.com/notebooks/data_table.ipynb>data table notebook</a>'\n",
              "            + ' to learn more about interactive tables.';\n",
              "          element.innerHTML = '';\n",
              "          dataTable['output_type'] = 'display_data';\n",
              "          await google.colab.output.renderOutput(dataTable, element);\n",
              "          const docLink = document.createElement('div');\n",
              "          docLink.innerHTML = docLinkHtml;\n",
              "          element.appendChild(docLink);\n",
              "        }\n",
              "      </script>\n",
              "    </div>\n",
              "  </div>\n"
            ]
          },
          "metadata": {},
          "execution_count": 3
        }
      ],
      "source": [
        "# Importação do dataset\n",
        "url = \"https://raw.githubusercontent.com/anushamanur/Wilt/master/training.csv\"\n",
        "url2 = \"https://raw.githubusercontent.com/anushamanur/Wilt/master/testing.csv\"\n",
        "\n",
        "colunas = ['label','GLCM_Pan','Mean_G','Mean_R','Mean_NIR','SD_Pan']\n",
        "\n",
        "\n",
        "# Lê o arquivo\n",
        "ds_train = pd.read_csv(url, header=None, names=colunas)\n",
        "ds_test = pd.read_csv(url2, header=None, names=colunas)\n",
        "ds_test.head()"
      ]
    },
    {
      "cell_type": "markdown",
      "id": "98b7a26d-6773-4bd8-bcc4-2451c05e68de",
      "metadata": {
        "id": "98b7a26d-6773-4bd8-bcc4-2451c05e68de"
      },
      "source": [
        "### 1.2 Preparação dos dados\n",
        "\n"
      ]
    },
    {
      "cell_type": "markdown",
      "id": "4d0e3038-a98c-4d8e-9d61-a8ce8330d672",
      "metadata": {
        "id": "4d0e3038-a98c-4d8e-9d61-a8ce8330d672"
      },
      "source": [
        "#### 1.2.1 Separação dos dados (treino e teste)"
      ]
    },
    {
      "cell_type": "code",
      "execution_count": 4,
      "id": "8826c4bc-c37f-40c8-a763-07d973b8b8b4",
      "metadata": {
        "id": "8826c4bc-c37f-40c8-a763-07d973b8b8b4"
      },
      "outputs": [],
      "source": [
        "test_size = 0.2 # tamanho do conjunto de teste\n",
        "seed = 7 # semente aleatória\n",
        "\n",
        "X_train = ds_train.iloc[:, 1:]  # Todas as colunas, exceto a primeira (alvo)\n",
        "y_train = ds_train.iloc[:, 0]   # Primeira coluna (alvo)\n",
        "\n",
        "X_test = ds_test.iloc[:, 1:]  # Todas as colunas, exceto a primeira (alvo)\n",
        "y_test = ds_test.iloc[:, 0]   # Primeira coluna (alvo)\n",
        "\n",
        "# Criar conjuntos de treino e teste usando train_test_split do sklearn\n",
        "# Vamos usar 80% dos dados para treino e 20% para teste, mas você pode ajustar esses valores conforme necessário.\n",
        "# X_train, X_test, y_train, y_test = train_test_split(X, y, test_size=test_size, random_state=seed)\n",
        "\n",
        "\n",
        "# Parâmetros e partições da validação cruzada\n",
        "scoring = 'f1'\n",
        "num_particoes = 5\n",
        "kfold = StratifiedKFold(n_splits=num_particoes, shuffle=True, random_state=seed) # validação cruzada com estratificação"
      ]
    },
    {
      "cell_type": "code",
      "execution_count": 5,
      "id": "7c30c4fe-c72b-4465-8ddb-c73167aafb36",
      "metadata": {
        "colab": {
          "base_uri": "https://localhost:8080/",
          "height": 424
        },
        "id": "7c30c4fe-c72b-4465-8ddb-c73167aafb36",
        "outputId": "efc1b49b-0f71-4309-8242-ebc51adbe8d0"
      },
      "outputs": [
        {
          "output_type": "execute_result",
          "data": {
            "text/plain": [
              "        GLCM_Pan      Mean_G      Mean_R    Mean_NIR     SD_Pan\n",
              "0     120.362774  205.500000  119.395349  416.581395  20.676318\n",
              "1     124.739583  202.800000  115.333333  354.333333  16.707151\n",
              "2     134.691964  199.285714  116.857143  477.857143  22.496712\n",
              "3     127.946309  178.368421   92.368421  278.473684  14.977453\n",
              "4     135.431548  197.000000  112.690476  532.952381  17.604193\n",
              "...          ...         ...         ...         ...        ...\n",
              "4334  111.568773  203.588235   93.264706  403.735294  26.512777\n",
              "4335  125.435240  206.394161   93.058394  512.270073  33.466060\n",
              "4336  132.123859  465.343750  295.333333  499.250000  38.762967\n",
              "4337  124.469536  215.152632   98.484211  675.915789  28.506542\n",
              "4338  125.171928  559.048000  365.968000  439.272000  15.392322\n",
              "\n",
              "[4339 rows x 5 columns]"
            ],
            "text/html": [
              "\n",
              "\n",
              "  <div id=\"df-adf0d71c-8109-4850-b30a-f634d5c2a394\">\n",
              "    <div class=\"colab-df-container\">\n",
              "      <div>\n",
              "<style scoped>\n",
              "    .dataframe tbody tr th:only-of-type {\n",
              "        vertical-align: middle;\n",
              "    }\n",
              "\n",
              "    .dataframe tbody tr th {\n",
              "        vertical-align: top;\n",
              "    }\n",
              "\n",
              "    .dataframe thead th {\n",
              "        text-align: right;\n",
              "    }\n",
              "</style>\n",
              "<table border=\"1\" class=\"dataframe\">\n",
              "  <thead>\n",
              "    <tr style=\"text-align: right;\">\n",
              "      <th></th>\n",
              "      <th>GLCM_Pan</th>\n",
              "      <th>Mean_G</th>\n",
              "      <th>Mean_R</th>\n",
              "      <th>Mean_NIR</th>\n",
              "      <th>SD_Pan</th>\n",
              "    </tr>\n",
              "  </thead>\n",
              "  <tbody>\n",
              "    <tr>\n",
              "      <th>0</th>\n",
              "      <td>120.362774</td>\n",
              "      <td>205.500000</td>\n",
              "      <td>119.395349</td>\n",
              "      <td>416.581395</td>\n",
              "      <td>20.676318</td>\n",
              "    </tr>\n",
              "    <tr>\n",
              "      <th>1</th>\n",
              "      <td>124.739583</td>\n",
              "      <td>202.800000</td>\n",
              "      <td>115.333333</td>\n",
              "      <td>354.333333</td>\n",
              "      <td>16.707151</td>\n",
              "    </tr>\n",
              "    <tr>\n",
              "      <th>2</th>\n",
              "      <td>134.691964</td>\n",
              "      <td>199.285714</td>\n",
              "      <td>116.857143</td>\n",
              "      <td>477.857143</td>\n",
              "      <td>22.496712</td>\n",
              "    </tr>\n",
              "    <tr>\n",
              "      <th>3</th>\n",
              "      <td>127.946309</td>\n",
              "      <td>178.368421</td>\n",
              "      <td>92.368421</td>\n",
              "      <td>278.473684</td>\n",
              "      <td>14.977453</td>\n",
              "    </tr>\n",
              "    <tr>\n",
              "      <th>4</th>\n",
              "      <td>135.431548</td>\n",
              "      <td>197.000000</td>\n",
              "      <td>112.690476</td>\n",
              "      <td>532.952381</td>\n",
              "      <td>17.604193</td>\n",
              "    </tr>\n",
              "    <tr>\n",
              "      <th>...</th>\n",
              "      <td>...</td>\n",
              "      <td>...</td>\n",
              "      <td>...</td>\n",
              "      <td>...</td>\n",
              "      <td>...</td>\n",
              "    </tr>\n",
              "    <tr>\n",
              "      <th>4334</th>\n",
              "      <td>111.568773</td>\n",
              "      <td>203.588235</td>\n",
              "      <td>93.264706</td>\n",
              "      <td>403.735294</td>\n",
              "      <td>26.512777</td>\n",
              "    </tr>\n",
              "    <tr>\n",
              "      <th>4335</th>\n",
              "      <td>125.435240</td>\n",
              "      <td>206.394161</td>\n",
              "      <td>93.058394</td>\n",
              "      <td>512.270073</td>\n",
              "      <td>33.466060</td>\n",
              "    </tr>\n",
              "    <tr>\n",
              "      <th>4336</th>\n",
              "      <td>132.123859</td>\n",
              "      <td>465.343750</td>\n",
              "      <td>295.333333</td>\n",
              "      <td>499.250000</td>\n",
              "      <td>38.762967</td>\n",
              "    </tr>\n",
              "    <tr>\n",
              "      <th>4337</th>\n",
              "      <td>124.469536</td>\n",
              "      <td>215.152632</td>\n",
              "      <td>98.484211</td>\n",
              "      <td>675.915789</td>\n",
              "      <td>28.506542</td>\n",
              "    </tr>\n",
              "    <tr>\n",
              "      <th>4338</th>\n",
              "      <td>125.171928</td>\n",
              "      <td>559.048000</td>\n",
              "      <td>365.968000</td>\n",
              "      <td>439.272000</td>\n",
              "      <td>15.392322</td>\n",
              "    </tr>\n",
              "  </tbody>\n",
              "</table>\n",
              "<p>4339 rows × 5 columns</p>\n",
              "</div>\n",
              "      <button class=\"colab-df-convert\" onclick=\"convertToInteractive('df-adf0d71c-8109-4850-b30a-f634d5c2a394')\"\n",
              "              title=\"Convert this dataframe to an interactive table.\"\n",
              "              style=\"display:none;\">\n",
              "\n",
              "  <svg xmlns=\"http://www.w3.org/2000/svg\" height=\"24px\"viewBox=\"0 0 24 24\"\n",
              "       width=\"24px\">\n",
              "    <path d=\"M0 0h24v24H0V0z\" fill=\"none\"/>\n",
              "    <path d=\"M18.56 5.44l.94 2.06.94-2.06 2.06-.94-2.06-.94-.94-2.06-.94 2.06-2.06.94zm-11 1L8.5 8.5l.94-2.06 2.06-.94-2.06-.94L8.5 2.5l-.94 2.06-2.06.94zm10 10l.94 2.06.94-2.06 2.06-.94-2.06-.94-.94-2.06-.94 2.06-2.06.94z\"/><path d=\"M17.41 7.96l-1.37-1.37c-.4-.4-.92-.59-1.43-.59-.52 0-1.04.2-1.43.59L10.3 9.45l-7.72 7.72c-.78.78-.78 2.05 0 2.83L4 21.41c.39.39.9.59 1.41.59.51 0 1.02-.2 1.41-.59l7.78-7.78 2.81-2.81c.8-.78.8-2.07 0-2.86zM5.41 20L4 18.59l7.72-7.72 1.47 1.35L5.41 20z\"/>\n",
              "  </svg>\n",
              "      </button>\n",
              "\n",
              "\n",
              "\n",
              "    <div id=\"df-d3ff3892-d158-43a3-b5ab-26b070248d66\">\n",
              "      <button class=\"colab-df-quickchart\" onclick=\"quickchart('df-d3ff3892-d158-43a3-b5ab-26b070248d66')\"\n",
              "              title=\"Suggest charts.\"\n",
              "              style=\"display:none;\">\n",
              "\n",
              "<svg xmlns=\"http://www.w3.org/2000/svg\" height=\"24px\"viewBox=\"0 0 24 24\"\n",
              "     width=\"24px\">\n",
              "    <g>\n",
              "        <path d=\"M19 3H5c-1.1 0-2 .9-2 2v14c0 1.1.9 2 2 2h14c1.1 0 2-.9 2-2V5c0-1.1-.9-2-2-2zM9 17H7v-7h2v7zm4 0h-2V7h2v10zm4 0h-2v-4h2v4z\"/>\n",
              "    </g>\n",
              "</svg>\n",
              "      </button>\n",
              "    </div>\n",
              "\n",
              "<style>\n",
              "  .colab-df-quickchart {\n",
              "    background-color: #E8F0FE;\n",
              "    border: none;\n",
              "    border-radius: 50%;\n",
              "    cursor: pointer;\n",
              "    display: none;\n",
              "    fill: #1967D2;\n",
              "    height: 32px;\n",
              "    padding: 0 0 0 0;\n",
              "    width: 32px;\n",
              "  }\n",
              "\n",
              "  .colab-df-quickchart:hover {\n",
              "    background-color: #E2EBFA;\n",
              "    box-shadow: 0px 1px 2px rgba(60, 64, 67, 0.3), 0px 1px 3px 1px rgba(60, 64, 67, 0.15);\n",
              "    fill: #174EA6;\n",
              "  }\n",
              "\n",
              "  [theme=dark] .colab-df-quickchart {\n",
              "    background-color: #3B4455;\n",
              "    fill: #D2E3FC;\n",
              "  }\n",
              "\n",
              "  [theme=dark] .colab-df-quickchart:hover {\n",
              "    background-color: #434B5C;\n",
              "    box-shadow: 0px 1px 3px 1px rgba(0, 0, 0, 0.15);\n",
              "    filter: drop-shadow(0px 1px 2px rgba(0, 0, 0, 0.3));\n",
              "    fill: #FFFFFF;\n",
              "  }\n",
              "</style>\n",
              "\n",
              "    <script>\n",
              "      async function quickchart(key) {\n",
              "        const containerElement = document.querySelector('#' + key);\n",
              "        const charts = await google.colab.kernel.invokeFunction(\n",
              "            'suggestCharts', [key], {});\n",
              "      }\n",
              "    </script>\n",
              "\n",
              "      <script>\n",
              "\n",
              "function displayQuickchartButton(domScope) {\n",
              "  let quickchartButtonEl =\n",
              "    domScope.querySelector('#df-d3ff3892-d158-43a3-b5ab-26b070248d66 button.colab-df-quickchart');\n",
              "  quickchartButtonEl.style.display =\n",
              "    google.colab.kernel.accessAllowed ? 'block' : 'none';\n",
              "}\n",
              "\n",
              "        displayQuickchartButton(document);\n",
              "      </script>\n",
              "      <style>\n",
              "    .colab-df-container {\n",
              "      display:flex;\n",
              "      flex-wrap:wrap;\n",
              "      gap: 12px;\n",
              "    }\n",
              "\n",
              "    .colab-df-convert {\n",
              "      background-color: #E8F0FE;\n",
              "      border: none;\n",
              "      border-radius: 50%;\n",
              "      cursor: pointer;\n",
              "      display: none;\n",
              "      fill: #1967D2;\n",
              "      height: 32px;\n",
              "      padding: 0 0 0 0;\n",
              "      width: 32px;\n",
              "    }\n",
              "\n",
              "    .colab-df-convert:hover {\n",
              "      background-color: #E2EBFA;\n",
              "      box-shadow: 0px 1px 2px rgba(60, 64, 67, 0.3), 0px 1px 3px 1px rgba(60, 64, 67, 0.15);\n",
              "      fill: #174EA6;\n",
              "    }\n",
              "\n",
              "    [theme=dark] .colab-df-convert {\n",
              "      background-color: #3B4455;\n",
              "      fill: #D2E3FC;\n",
              "    }\n",
              "\n",
              "    [theme=dark] .colab-df-convert:hover {\n",
              "      background-color: #434B5C;\n",
              "      box-shadow: 0px 1px 3px 1px rgba(0, 0, 0, 0.15);\n",
              "      filter: drop-shadow(0px 1px 2px rgba(0, 0, 0, 0.3));\n",
              "      fill: #FFFFFF;\n",
              "    }\n",
              "  </style>\n",
              "\n",
              "      <script>\n",
              "        const buttonEl =\n",
              "          document.querySelector('#df-adf0d71c-8109-4850-b30a-f634d5c2a394 button.colab-df-convert');\n",
              "        buttonEl.style.display =\n",
              "          google.colab.kernel.accessAllowed ? 'block' : 'none';\n",
              "\n",
              "        async function convertToInteractive(key) {\n",
              "          const element = document.querySelector('#df-adf0d71c-8109-4850-b30a-f634d5c2a394');\n",
              "          const dataTable =\n",
              "            await google.colab.kernel.invokeFunction('convertToInteractive',\n",
              "                                                     [key], {});\n",
              "          if (!dataTable) return;\n",
              "\n",
              "          const docLinkHtml = 'Like what you see? Visit the ' +\n",
              "            '<a target=\"_blank\" href=https://colab.research.google.com/notebooks/data_table.ipynb>data table notebook</a>'\n",
              "            + ' to learn more about interactive tables.';\n",
              "          element.innerHTML = '';\n",
              "          dataTable['output_type'] = 'display_data';\n",
              "          await google.colab.output.renderOutput(dataTable, element);\n",
              "          const docLink = document.createElement('div');\n",
              "          docLink.innerHTML = docLinkHtml;\n",
              "          element.appendChild(docLink);\n",
              "        }\n",
              "      </script>\n",
              "    </div>\n",
              "  </div>\n"
            ]
          },
          "metadata": {},
          "execution_count": 5
        }
      ],
      "source": [
        "X_train"
      ]
    },
    {
      "cell_type": "markdown",
      "id": "2c98c0f4-c8b5-4a64-a67a-fdb73f91f1d1",
      "metadata": {
        "id": "2c98c0f4-c8b5-4a64-a67a-fdb73f91f1d1"
      },
      "source": [
        "#### 1.2.2 Validação cruzada"
      ]
    },
    {
      "cell_type": "markdown",
      "id": "f525e07d-ed48-4aa6-93a3-d713ae49d4c2",
      "metadata": {
        "id": "f525e07d-ed48-4aa6-93a3-d713ae49d4c2"
      },
      "source": [
        "#### 1.2.3 Transformação de dados"
      ]
    },
    {
      "cell_type": "markdown",
      "id": "e80d8563-a478-4119-8368-734372737b74",
      "metadata": {
        "id": "e80d8563-a478-4119-8368-734372737b74"
      },
      "source": [
        "#### 1.2.4 _Feature selection_"
      ]
    },
    {
      "cell_type": "markdown",
      "id": "e5201b59-a37f-4120-b718-80d122a4d581",
      "metadata": {
        "id": "e5201b59-a37f-4120-b718-80d122a4d581"
      },
      "source": [
        "### 1.3 Modelagem e treinamento\n",
        "\n"
      ]
    },
    {
      "cell_type": "markdown",
      "id": "dd7a65e0-9746-400c-8959-cc4f1671950c",
      "metadata": {
        "id": "dd7a65e0-9746-400c-8959-cc4f1671950c"
      },
      "source": [
        "#### 1.3.1 Seleção de algoritmos"
      ]
    },
    {
      "cell_type": "code",
      "execution_count": 6,
      "id": "c0214932-c51f-402b-aa9e-3190543b4bdf",
      "metadata": {
        "id": "c0214932-c51f-402b-aa9e-3190543b4bdf"
      },
      "outputs": [],
      "source": [
        "from sklearn.linear_model import LogisticRegression\n",
        "# from sklearn.tree import DecisionTreeClassifier\n",
        "# from sklearn.neighbors import KNeighborsClassifier\n",
        "# from sklearn.naive_bayes import GaussianNB\n",
        "from sklearn.svm import SVC\n",
        "# from sklearn.ensemble import BaggingClassifier\n",
        "from sklearn.ensemble import RandomForestClassifier\n",
        "# from sklearn.ensemble import ExtraTreesClassifier\n",
        "# from sklearn.ensemble import VotingClassifier\n",
        "from sklearn.ensemble import AdaBoostClassifier\n",
        "# from sklearn.ensemble import GradientBoostingClassifier\n",
        "from sklearn.ensemble import IsolationForest\n",
        "from sklearn.svm import OneClassSVM\n",
        "import xgboost as xgb\n",
        "import lightgbm as lgb\n",
        "\n",
        "from imblearn.over_sampling import SMOTE\n"
      ]
    },
    {
      "cell_type": "code",
      "execution_count": 7,
      "id": "fddf22de-2a42-4694-baff-c39b9138f437",
      "metadata": {
        "colab": {
          "base_uri": "https://localhost:8080/",
          "height": 1000
        },
        "id": "fddf22de-2a42-4694-baff-c39b9138f437",
        "outputId": "80855d3b-48fc-4c8a-879f-c05af4d6fc4a"
      },
      "outputs": [
        {
          "output_type": "stream",
          "name": "stdout",
          "text": [
            "LR: 0.985309 (0.000980)\n",
            "RF: 0.996959 (0.001352)\n",
            "Ada: 0.996145 (0.001674)\n",
            "XGB: 0.995449 (0.001126)\n",
            "LGBM: 0.996958 (0.001751)\n"
          ]
        },
        {
          "output_type": "display_data",
          "data": {
            "text/plain": [
              "<Figure size 1500x1000 with 1 Axes>"
            ],
            "image/png": "[encoded data removed]"
          },
          "metadata": {}
        }
      ],
      "source": [
        "np.random.seed(seed) # definindo uma semente global\n",
        "\n",
        "# Lista que armazenará os modelos\n",
        "models = []\n",
        "\n",
        "# Criando os modelos e adicionando-os na lista de modelos\n",
        "models.append(('LR', LogisticRegression(max_iter=200)))\n",
        "#models.append(('KNN', KNeighborsClassifier()))\n",
        "#models.append(('CART', DecisionTreeClassifier()))\n",
        "#models.append(('NB', GaussianNB()))\n",
        "# models.append(('SVM', SVC()))\n",
        "\n",
        "num_trees = 100\n",
        "max_features = 3\n",
        "\n",
        "# Criando os ensembles e adicionando-os na lista de modelos\n",
        "#models.append(('Bagging', BaggingClassifier(base_estimator=base, n_estimators=num_trees)))\n",
        "models.append(('RF', RandomForestClassifier(n_estimators=num_trees, max_features=max_features, class_weight='balanced')))\n",
        "# models.append(('ET', ExtraTreesClassifier(n_estimators=num_trees, max_features=max_features)))\n",
        "models.append(('Ada', AdaBoostClassifier(n_estimators=num_trees)))\n",
        "# models.append(('GB', GradientBoostingClassifier(n_estimators=num_trees)))\n",
        "models.append(('XGB', xgb.XGBClassifier(scale_pos_weight=sum(y_train == 0) / sum(y_train == 1), random_state=seed)))\n",
        "models.append(('LGBM',lgb.LGBMClassifier(force_col_wise=True) ))\n",
        "\n",
        "\n",
        "#models.append(('Voting', VotingClassifier(bases)))\n",
        "\n",
        "# Listas para armazenar os resultados\n",
        "results = []\n",
        "names = []\n",
        "\n",
        "\n",
        "sm = SMOTE(sampling_strategy='minority', k_neighbors=5, random_state=seed)\n",
        "X_train, y_train = sm.fit_resample(X_train,y_train)\n",
        "\n",
        "\n",
        "# Avaliação dos modelos\n",
        "for name, model in models:\n",
        "      cv_results = cross_val_score(model, X_train, y_train, cv=kfold, scoring=scoring)\n",
        "      results.append(cv_results)\n",
        "      names.append(name)\n",
        "      msg = \"%s: %f (%f)\" % (name, cv_results.mean(), cv_results.std())\n",
        "      print(msg)\n",
        "\n",
        "# Boxplot de comparação dos modelos\n",
        "fig = plt.figure(figsize=(15,10))\n",
        "fig.suptitle('Comparação dos Modelos')\n",
        "ax = fig.add_subplot(111)\n",
        "plt.boxplot(results)\n",
        "ax.set_xticklabels(names)\n",
        "plt.show()\n"
      ]
    },
    {
      "cell_type": "markdown",
      "id": "b06e30c6-860e-4824-ba97-7e1fcac9a6af",
      "metadata": {
        "id": "b06e30c6-860e-4824-ba97-7e1fcac9a6af"
      },
      "source": [
        "#### 1.3.2 Avaliação do treinamento"
      ]
    },
    {
      "cell_type": "markdown",
      "id": "d7e2398d-2ae1-4c8b-969c-e7d6ae5fb48f",
      "metadata": {
        "id": "d7e2398d-2ae1-4c8b-969c-e7d6ae5fb48f"
      },
      "source": [
        "#### 1.3.3 Otimização de hiperparâmetros\n",
        "\n"
      ]
    },
    {
      "cell_type": "code",
      "execution_count": null,
      "id": "17b33813-9085-4b56-a02a-a889c01c39aa",
      "metadata": {
        "colab": {
          "base_uri": "https://localhost:8080/"
        },
        "id": "17b33813-9085-4b56-a02a-a889c01c39aa",
        "outputId": "9468888d-426c-47ed-ffd4-43b675ee64a7"
      },
      "outputs": [
        {
          "name": "stdout",
          "output_type": "stream",
          "text": [
            "lgbm - Melhor: 0.997544 usando {'lgbm__boosting_type': 'goss', 'lgbm__learning_rate': 0.1, 'lgbm__max_depth': 5, 'lgbm__num_leaves': 31, 'lgbm__verbose': -1}\n"
          ]
        }
      ],
      "source": [
        "# Tuning do lightgbm\n",
        "\n",
        "np.random.seed(7) # definindo uma semente global para este bloco\n",
        "\n",
        "pipelines = []\n",
        "\n",
        "# Definindo os componentes do pipeline\n",
        "lgbmodel = ('lgbm', lgb.LGBMClassifier(force_col_wise=True))\n",
        "\n",
        "standard_scaler = ('StandardScaler', StandardScaler())\n",
        "min_max_scaler = ('MinMaxScaler', MinMaxScaler())\n",
        "\n",
        "pipelines.append(('lgbm', Pipeline(steps=[lgbmodel])))\n",
        "\n",
        "\n",
        "param_grid = {\n",
        "    'lgbm__verbose':[-1],\n",
        "    'lgbm__boosting_type': ['dart', 'goss'],          # tipos de boosting diferentes\n",
        "    'lgbm__num_leaves': [31, 63],\n",
        "    'lgbm__max_depth': [3, 5],                        # profundidade máxima\n",
        "    'lgbm__learning_rate': [0.01, 0.1],               # Learning rate\n",
        "}\n",
        "\n",
        "# Prepara e executa o GridSearchCV\n",
        "for name, model in pipelines:\n",
        "    grid = GridSearchCV(estimator=model, param_grid=param_grid, scoring=scoring, cv=kfold, n_jobs=-1)\n",
        "    grid.fit(X_train, y_train)\n",
        "    # imprime a melhor configuração\n",
        "    print(\"%s - Melhor: %f usando %s\" % (name, grid.best_score_, grid.best_params_))"
      ]
    },
    {
      "cell_type": "markdown",
      "id": "b7eb8d0c-db2c-428d-8b87-efcea0913421",
      "metadata": {
        "id": "b7eb8d0c-db2c-428d-8b87-efcea0913421"
      },
      "source": [
        "### 1.4 Análise de Resultados"
      ]
    },
    {
      "cell_type": "markdown",
      "id": "7e9666e5-29d2-4db2-8a34-2d99b5596291",
      "metadata": {
        "id": "7e9666e5-29d2-4db2-8a34-2d99b5596291"
      },
      "source": [
        "#### 1.4.1 Métricas de avaliação"
      ]
    },
    {
      "cell_type": "code",
      "execution_count": null,
      "id": "HnSs2xjG9tFc",
      "metadata": {
        "colab": {
          "base_uri": "https://localhost:8080/",
          "height": 487
        },
        "id": "HnSs2xjG9tFc",
        "outputId": "f880a05e-f0db-4cf2-c1f4-554dcdf163cd"
      },
      "outputs": [
        {
          "data": {
            "image/png": "[encoded data removed]",
            "text/plain": [
              "<Figure size 600x500 with 2 Axes>"
            ]
          },
          "metadata": {},
          "output_type": "display_data"
        },
        {
          "data": {
            "image/png": "[encoded data removed]",
            "text/plain": [
              "<Figure size 800x600 with 1 Axes>"
            ]
          },
          "metadata": {},
          "output_type": "display_data"
        }
      ],
      "source": [
        "from sklearn.metrics import confusion_matrix\n",
        "from sklearn.metrics import roc_curve, auc\n",
        "\n",
        "model =  lgb.LGBMClassifier(force_col_wise=True,\n",
        "                            boosting_type='goss',\n",
        "                            learning_rate=0.1,\n",
        "                            max_depth=5,\n",
        "                            num_leaves=31,\n",
        "                            verbose=-1\n",
        "                           )\n",
        "\n",
        "model.fit(X_train, y_train)\n",
        "\n",
        "y_pred = model.predict(X_test)\n",
        "\n",
        "# Calcular a matriz de confusão e roc curve\n",
        "cm = confusion_matrix(y_test, y_pred)\n",
        "fpr, tpr, thresholds = roc_curve(y_test, y_pred)\n",
        "roc_auc = auc(fpr, tpr)\n",
        "\n",
        "# Matriz de confusão usando Seaborn\n",
        "plt.figure(figsize=(6, 5))\n",
        "# sns.heatmap(cm, annot=True, fmt=\"d\", cmap=\"Blues\", xticklabels=data.target_names, yticklabels=data.target_names)\n",
        "sns.heatmap(cm, annot=True, fmt=\"d\", cmap=\"Blues\")\n",
        "\n",
        "plt.xlabel('Previsão')\n",
        "plt.ylabel('Valor Real')\n",
        "plt.title('Matriz de Confusão')\n",
        "plt.show()\n",
        "\n",
        "\n",
        "plt.figure(figsize=(8, 6))\n",
        "sns.set_style('whitegrid')\n",
        "plt.plot(fpr, tpr, color='darkorange', lw=2, label=f'ROC curve (area = {roc_auc:.2f})')\n",
        "plt.plot([0, 1], [0, 1], color='navy', lw=2, linestyle='--')\n",
        "plt.xlim([0.0, 1.0])\n",
        "plt.ylim([0.0, 1.05])\n",
        "plt.xlabel('False Positive Rate')\n",
        "plt.ylabel('True Positive Rate')\n",
        "plt.title('Receiver Operating Characteristic (ROC)')\n",
        "plt.legend(loc='lower right')\n",
        "plt.show()"
      ]
    },
    {
      "cell_type": "code",
      "execution_count": null,
      "id": "LH-RWr8EhQ0Q",
      "metadata": {
        "colab": {
          "base_uri": "https://localhost:8080/"
        },
        "id": "LH-RWr8EhQ0Q",
        "outputId": "2985ed2e-cd25-463e-9a4c-7c437aca4c32",
        "scrolled": true
      },
      "outputs": [
        {
          "name": "stdout",
          "output_type": "stream",
          "text": [
            "Métricas de Avaliação:\n",
            "F1-score: 0.8355795148247979\n",
            "AUC-ROC: 0.8681126240795476\n",
            "\n",
            "Relatório de Classificação:\n",
            "              precision    recall  f1-score   support\n",
            "\n",
            "           0       0.90      0.91      0.90       313\n",
            "           1       0.84      0.83      0.84       187\n",
            "\n",
            "    accuracy                           0.88       500\n",
            "   macro avg       0.87      0.87      0.87       500\n",
            "weighted avg       0.88      0.88      0.88       500\n",
            "\n"
          ]
        }
      ],
      "source": [
        "from sklearn.metrics import f1_score, roc_auc_score, confusion_matrix, classification_report\n",
        "\n",
        "\n",
        "# Calcular as métricas F1-score e AUC-ROC\n",
        "f1 = f1_score(y_test, y_pred)\n",
        "auc_roc = roc_auc_score(y_test, y_pred)\n",
        "\n",
        "# Imprimir as métricas\n",
        "print(\"Métricas de Avaliação:\")\n",
        "print(\"F1-score:\", f1)\n",
        "print(\"AUC-ROC:\", auc_roc)\n",
        "\n",
        "# Imprimir o relatório de classificação\n",
        "print(\"\\nRelatório de Classificação:\")\n",
        "print(classification_report(y_test, y_pred))"
      ]
    },
    {
      "cell_type": "markdown",
      "id": "957e89ab-4c3d-492f-9ac3-ae7bcbebe557",
      "metadata": {
        "id": "957e89ab-4c3d-492f-9ac3-ae7bcbebe557"
      },
      "source": [
        "#### 1.4.2 Teste do modelo"
      ]
    },
    {
      "cell_type": "markdown",
      "id": "74253c0b-3ae3-44ad-b471-2328382d2828",
      "metadata": {
        "id": "74253c0b-3ae3-44ad-b471-2328382d2828"
      },
      "source": [
        "#### 1.4.3 Avaliação do modelo"
      ]
    },
    {
      "cell_type": "markdown",
      "id": "dbd5fcc4-333b-47ae-99fc-65408d2f88f5",
      "metadata": {
        "id": "dbd5fcc4-333b-47ae-99fc-65408d2f88f5"
      },
      "source": [
        "#### 1.4.4 Conclusões"
      ]
    },
    {
      "cell_type": "markdown",
      "id": "d0b7020a-e222-4e50-9441-755d2cfb21af",
      "metadata": {
        "id": "d0b7020a-e222-4e50-9441-755d2cfb21af"
      },
      "source": [
        "#### 1.4.5 Próximos passos"
      ]
    },
    {
      "cell_type": "code",
      "execution_count": null,
      "id": "4d66b081-a301-4b6c-96cc-f44f05287362",
      "metadata": {
        "id": "4d66b081-a301-4b6c-96cc-f44f05287362"
      },
      "outputs": [],
      "source": []
    }
  ],
  "metadata": {
    "colab": {
      "provenance": [],
      "include_colab_link": true
    },
    "kernelspec": {
      "display_name": "Python 3 (ipykernel)",
      "language": "python",
      "name": "python3"
    },
    "language_info": {
      "codemirror_mode": {
        "name": "ipython",
        "version": 3
      },
      "file_extension": ".py",
      "mimetype": "text/x-python",
      "name": "python",
      "nbconvert_exporter": "python",
      "pygments_lexer": "ipython3",
      "version": "3.10.12"
    }
  },
  "nbformat": 4,
  "nbformat_minor": 5
}