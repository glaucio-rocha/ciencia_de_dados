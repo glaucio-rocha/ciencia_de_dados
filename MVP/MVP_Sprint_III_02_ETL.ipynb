{
  "cells": [
    {
      "cell_type": "markdown",
      "metadata": {
        "id": "view-in-github",
        "colab_type": "text"
      },
      "source": [
        "<a href=\"https://colab.research.google.com/github/glaucio-rocha/ciencia_de_dados/blob/main/MVP/MVP_Sprint_III_02_ETL.ipynb\" target=\"_parent\"><img src=\"https://colab.research.google.com/assets/colab-badge.svg\" alt=\"Open In Colab\"/></a>"
      ]
    },
    {
      "cell_type": "code",
      "execution_count": 1,
      "metadata": {
        "colab": {
          "base_uri": "https://localhost:8080/"
        },
        "id": "wtbd1_50vm31",
        "outputId": "1c4edf6a-6192-45b4-bb23-1cd775be085b"
      },
      "outputs": [
        {
          "output_type": "stream",
          "name": "stdout",
          "text": [
            "Requirement already satisfied: duckdb in /usr/local/lib/python3.10/dist-packages (0.8.1)\n",
            "Collecting duckdb-engine\n",
            "  Downloading duckdb_engine-0.9.2-py3-none-any.whl (43 kB)\n",
            "\u001b[2K     \u001b[90m━━━━━━━━━━━━━━━━━━━━━━━━━━━━━━━━━━━━━━━━\u001b[0m \u001b[32m43.1/43.1 kB\u001b[0m \u001b[31m1.4 MB/s\u001b[0m eta \u001b[36m0:00:00\u001b[0m\n",
            "\u001b[?25hCollecting jupysql\n",
            "  Downloading jupysql-0.10.2-py3-none-any.whl (87 kB)\n",
            "\u001b[2K     \u001b[90m━━━━━━━━━━━━━━━━━━━━━━━━━━━━━━━━━━━━━━━━\u001b[0m \u001b[32m87.6/87.6 kB\u001b[0m \u001b[31m4.3 MB/s\u001b[0m eta \u001b[36m0:00:00\u001b[0m\n",
            "\u001b[?25hRequirement already satisfied: sqlalchemy>=1.3.22 in /usr/local/lib/python3.10/dist-packages (from duckdb-engine) (2.0.20)\n",
            "Requirement already satisfied: prettytable in /usr/local/lib/python3.10/dist-packages (from jupysql) (3.8.0)\n",
            "Requirement already satisfied: ipython in /usr/local/lib/python3.10/dist-packages (from jupysql) (7.34.0)\n",
            "Requirement already satisfied: sqlparse in /usr/local/lib/python3.10/dist-packages (from jupysql) (0.4.4)\n",
            "Requirement already satisfied: ipython-genutils>=0.1.0 in /usr/local/lib/python3.10/dist-packages (from jupysql) (0.2.0)\n",
            "Requirement already satisfied: jinja2 in /usr/local/lib/python3.10/dist-packages (from jupysql) (3.1.2)\n",
            "Collecting sqlglot>=11.3.7 (from jupysql)\n",
            "  Downloading sqlglot-18.10.1-py3-none-any.whl (313 kB)\n",
            "\u001b[2K     \u001b[90m━━━━━━━━━━━━━━━━━━━━━━━━━━━━━━━━━━━━━━\u001b[0m \u001b[32m313.3/313.3 kB\u001b[0m \u001b[31m16.1 MB/s\u001b[0m eta \u001b[36m0:00:00\u001b[0m\n",
            "\u001b[?25hCollecting ploomber-core>=0.2.7 (from jupysql)\n",
            "  Downloading ploomber_core-0.2.14-py3-none-any.whl (21 kB)\n",
            "Collecting jupysql-plugin (from jupysql)\n",
            "  Downloading jupysql_plugin-0.2.5-py3-none-any.whl (376 kB)\n",
            "\u001b[2K     \u001b[90m━━━━━━━━━━━━━━━━━━━━━━━━━━━━━━━━━━━━━━\u001b[0m \u001b[32m376.5/376.5 kB\u001b[0m \u001b[31m35.1 MB/s\u001b[0m eta \u001b[36m0:00:00\u001b[0m\n",
            "\u001b[?25hRequirement already satisfied: click in /usr/local/lib/python3.10/dist-packages (from ploomber-core>=0.2.7->jupysql) (8.1.7)\n",
            "Requirement already satisfied: pyyaml in /usr/local/lib/python3.10/dist-packages (from ploomber-core>=0.2.7->jupysql) (6.0.1)\n",
            "Collecting posthog (from ploomber-core>=0.2.7->jupysql)\n",
            "  Downloading posthog-3.0.2-py2.py3-none-any.whl (37 kB)\n",
            "Requirement already satisfied: typing-extensions>=4.2.0 in /usr/local/lib/python3.10/dist-packages (from sqlalchemy>=1.3.22->duckdb-engine) (4.5.0)\n",
            "Requirement already satisfied: greenlet!=0.4.17 in /usr/local/lib/python3.10/dist-packages (from sqlalchemy>=1.3.22->duckdb-engine) (2.0.2)\n",
            "Requirement already satisfied: setuptools>=18.5 in /usr/local/lib/python3.10/dist-packages (from ipython->jupysql) (67.7.2)\n",
            "Collecting jedi>=0.16 (from ipython->jupysql)\n",
            "  Downloading jedi-0.19.1-py2.py3-none-any.whl (1.6 MB)\n",
            "\u001b[2K     \u001b[90m━━━━━━━━━━━━━━━━━━━━━━━━━━━━━━━━━━━━━━━━\u001b[0m \u001b[32m1.6/1.6 MB\u001b[0m \u001b[31m65.6 MB/s\u001b[0m eta \u001b[36m0:00:00\u001b[0m\n",
            "\u001b[?25hRequirement already satisfied: decorator in /usr/local/lib/python3.10/dist-packages (from ipython->jupysql) (4.4.2)\n",
            "Requirement already satisfied: pickleshare in /usr/local/lib/python3.10/dist-packages (from ipython->jupysql) (0.7.5)\n",
            "Requirement already satisfied: traitlets>=4.2 in /usr/local/lib/python3.10/dist-packages (from ipython->jupysql) (5.7.1)\n",
            "Requirement already satisfied: prompt-toolkit!=3.0.0,!=3.0.1,<3.1.0,>=2.0.0 in /usr/local/lib/python3.10/dist-packages (from ipython->jupysql) (3.0.39)\n",
            "Requirement already satisfied: pygments in /usr/local/lib/python3.10/dist-packages (from ipython->jupysql) (2.16.1)\n",
            "Requirement already satisfied: backcall in /usr/local/lib/python3.10/dist-packages (from ipython->jupysql) (0.2.0)\n",
            "Requirement already satisfied: matplotlib-inline in /usr/local/lib/python3.10/dist-packages (from ipython->jupysql) (0.1.6)\n",
            "Requirement already satisfied: pexpect>4.3 in /usr/local/lib/python3.10/dist-packages (from ipython->jupysql) (4.8.0)\n",
            "Requirement already satisfied: MarkupSafe>=2.0 in /usr/local/lib/python3.10/dist-packages (from jinja2->jupysql) (2.1.3)\n",
            "Requirement already satisfied: wcwidth in /usr/local/lib/python3.10/dist-packages (from prettytable->jupysql) (0.2.6)\n",
            "Requirement already satisfied: parso<0.9.0,>=0.8.3 in /usr/local/lib/python3.10/dist-packages (from jedi>=0.16->ipython->jupysql) (0.8.3)\n",
            "Requirement already satisfied: ptyprocess>=0.5 in /usr/local/lib/python3.10/dist-packages (from pexpect>4.3->ipython->jupysql) (0.7.0)\n",
            "Requirement already satisfied: requests<3.0,>=2.7 in /usr/local/lib/python3.10/dist-packages (from posthog->ploomber-core>=0.2.7->jupysql) (2.31.0)\n",
            "Requirement already satisfied: six>=1.5 in /usr/local/lib/python3.10/dist-packages (from posthog->ploomber-core>=0.2.7->jupysql) (1.16.0)\n",
            "Collecting monotonic>=1.5 (from posthog->ploomber-core>=0.2.7->jupysql)\n",
            "  Downloading monotonic-1.6-py2.py3-none-any.whl (8.2 kB)\n",
            "Collecting backoff>=1.10.0 (from posthog->ploomber-core>=0.2.7->jupysql)\n",
            "  Downloading backoff-2.2.1-py3-none-any.whl (15 kB)\n",
            "Requirement already satisfied: python-dateutil>2.1 in /usr/local/lib/python3.10/dist-packages (from posthog->ploomber-core>=0.2.7->jupysql) (2.8.2)\n",
            "Requirement already satisfied: charset-normalizer<4,>=2 in /usr/local/lib/python3.10/dist-packages (from requests<3.0,>=2.7->posthog->ploomber-core>=0.2.7->jupysql) (3.2.0)\n",
            "Requirement already satisfied: idna<4,>=2.5 in /usr/local/lib/python3.10/dist-packages (from requests<3.0,>=2.7->posthog->ploomber-core>=0.2.7->jupysql) (3.4)\n",
            "Requirement already satisfied: urllib3<3,>=1.21.1 in /usr/local/lib/python3.10/dist-packages (from requests<3.0,>=2.7->posthog->ploomber-core>=0.2.7->jupysql) (2.0.4)\n",
            "Requirement already satisfied: certifi>=2017.4.17 in /usr/local/lib/python3.10/dist-packages (from requests<3.0,>=2.7->posthog->ploomber-core>=0.2.7->jupysql) (2023.7.22)\n",
            "Installing collected packages: monotonic, sqlglot, jedi, backoff, posthog, duckdb-engine, ploomber-core, jupysql-plugin, jupysql\n",
            "Successfully installed backoff-2.2.1 duckdb-engine-0.9.2 jedi-0.19.1 jupysql-0.10.2 jupysql-plugin-0.2.5 monotonic-1.6 ploomber-core-0.2.14 posthog-3.0.2 sqlglot-18.10.1\n"
          ]
        }
      ],
      "source": [
        "!pip install duckdb duckdb-engine jupysql\n"
      ]
    },
    {
      "cell_type": "code",
      "execution_count": 2,
      "metadata": {
        "id": "gZfLGVQnvm33"
      },
      "outputs": [],
      "source": [
        "%load_ext sql\n",
        "\n",
        "%config SqlMagic.autopandas = True\n",
        "%config SqlMagic.feedback = False\n",
        "%config SqlMagic.displaycon = False\n",
        "\n",
        "import pandas as pd\n",
        "import geopandas as gpd\n",
        "pd.options.display.max_rows = 50\n",
        "pd.options.display.max_columns = None\n",
        "\n",
        "import numpy as np\n",
        "import matplotlib.pyplot as plt\n",
        "import seaborn as sns\n",
        "\n",
        "import duckdb\n",
        "%sql duckdb:///:memory:\n"
      ]
    },
    {
      "cell_type": "markdown",
      "source": [
        "Importa os arquivos preparados pelo script 01"
      ],
      "metadata": {
        "id": "WNreNxWTTp-v"
      }
    },
    {
      "cell_type": "code",
      "execution_count": null,
      "metadata": {
        "id": "6hPAbyruvm35"
      },
      "outputs": [],
      "source": [
        "%%sql\n",
        "\n",
        "-- efetua um drop nas tabelas votacao, resultado, despesas, pib_variacao e semiarido caso existam\n",
        "\n",
        "DROP TABLE IF EXISTS votacao;\n",
        "DROP TABLE IF EXISTS resultado;\n",
        "DROP TABLE IF EXISTS despesas;\n",
        "DROP TABLE IF EXISTS pib_variacao;\n",
        "DROP TABLE IF EXISTS semiarido;\n",
        "\n",
        "CREATE TABLE votacao as\n",
        "    SELECT * FROM \"../dados/parquet/votacao_secao_2020_SE.parquet\";\n",
        "\n",
        "CREATE TABLE resultado as\n",
        "    SELECT * FROM \"../dados/parquet/votacao_candidato_munzona_2020_SE.parquet\";\n",
        "\n",
        "CREATE TABLE despesas as\n",
        "    SELECT * FROM \"../dados/parquet/despesas_contratadas_candidatos_2020_SE.parquet\";\n",
        "\n",
        "CREATE TABLE pib_variacao as\n",
        "    SELECT * FROM \"../dados/parquet/pib2020_mun_var128.parquet\";\n",
        "\n",
        "CREATE TABLE semiarido as\n",
        "    SELECT * FROM \"../dados/parquet/semiarido.parquet\";\n",
        "\n",
        "\n",
        "\n",
        "\n"
      ]
    },
    {
      "cell_type": "markdown",
      "metadata": {
        "id": "vvKSpI1ivm36"
      },
      "source": [
        "### Transformação de dados\n",
        "Unifica as informações de municipios e uma unica tabela.\n",
        "1. Aos dados de variação do PIB é adicionada a informação se o município pertence ao semiárido (transformando o código em SIM/NÃO)\n",
        "2. A tabela é limitada aos municípios do estado de Sergipe\n",
        "3. Os dados da geometria dos municípios foram mantidos na tabela"
      ]
    },
    {
      "cell_type": "code",
      "execution_count": null,
      "metadata": {
        "id": "jStYWUhAvm39"
      },
      "outputs": [],
      "source": [
        "%%sql result <<\n",
        "\n",
        "SELECT p.codmun as id_mun, p.municipio as nm_mun, p.var128 as variacao,\n",
        "      (CASE WHEN s.cd_semiari = 1 THEN 'SIM' ELSE 'NÃO' END) as semiarido,\n",
        "      p.geometry\n",
        "  FROM PIB_VARIACAO p, semiarido s\n",
        "  WHERE uf = 28\n",
        "  and p.codmun = s.cd_mun\n",
        "\n"
      ]
    },
    {
      "cell_type": "code",
      "execution_count": null,
      "metadata": {
        "id": "czVuMvtuvm3-"
      },
      "outputs": [],
      "source": [
        "result.to_parquet('../dados/parquet/dim_municipios.parquet', engine='pyarrow', compression='snappy')"
      ]
    },
    {
      "cell_type": "markdown",
      "metadata": {
        "id": "sw39Txjpvm4A"
      },
      "source": [
        "Limpeza da tabela de resultados da eleição"
      ]
    },
    {
      "cell_type": "code",
      "execution_count": null,
      "metadata": {
        "id": "gez9s-rIvm4B"
      },
      "outputs": [],
      "source": [
        "%%sql  result <<\n",
        "\n",
        "SELECT ANO_ELEICAO,\tTP_ABRANGENCIA,\tSG_UF,\tSG_UE,\tNM_UE,\tCD_MUNICIPIO,\tNM_MUNICIPIO,\tNR_ZONA,\n",
        "       DS_CARGO,\tSQ_CANDIDATO,\tNR_CANDIDATO,\tNM_CANDIDATO,\tNM_URNA_CANDIDATO,\tNM_SOCIAL_CANDIDATO,\n",
        "       DS_SITUACAO_CANDIDATURA,\tDS_DETALHE_SITUACAO_CAND, TP_AGREMIACAO,\tNR_PARTIDO,\tSG_PARTIDO,\tNM_PARTIDO,\n",
        "       QT_VOTOS_NOMINAIS,\tNM_TIPO_DESTINACAO_VOTOS,\tQT_VOTOS_NOMINAIS_VALIDOS,\tCD_SIT_TOT_TURNO,\tDS_SIT_TOT_TURNO\n",
        "  FROM resultado r\n",
        "\n"
      ]
    },
    {
      "cell_type": "code",
      "execution_count": null,
      "metadata": {
        "id": "gxQsWXE6vm4C"
      },
      "outputs": [],
      "source": [
        "result.to_parquet('../dados/parquet/dim_candidatos.parquet', engine='pyarrow', compression='snappy')"
      ]
    },
    {
      "cell_type": "markdown",
      "metadata": {
        "id": "qKUcsqP6vm4D"
      },
      "source": [
        "Limpeza da tabela de despesas dos candidatos na eleição\n",
        "1. Exclusão de dados sensíveis como: CPF e CNPJ dos candidatos e prestadores de serviço"
      ]
    },
    {
      "cell_type": "code",
      "execution_count": null,
      "metadata": {
        "id": "1TmDSeMMvm4E"
      },
      "outputs": [],
      "source": [
        "%%sql result <<\n",
        "\n",
        "select ANO_ELEICAO,\tDS_ELEICAO,\tTP_PRESTACAO_CONTAS, DT_PRESTACAO_CONTAS, SG_UF,\tSG_UE,\tNM_UE,\tDS_CARGO,\n",
        "       NR_CANDIDATO, NM_CANDIDATO, NR_PARTIDO, SG_PARTIDO, NM_PARTIDO, CD_TIPO_FORNECEDOR,\tDS_TIPO_FORNECEDOR,\n",
        "       DS_TIPO_DOCUMENTO, DS_ORIGEM_DESPESA, DT_DESPESA, VR_DESPESA_CONTRATADA\n",
        "  from despesas\n"
      ]
    },
    {
      "cell_type": "code",
      "execution_count": null,
      "metadata": {
        "id": "Gr26APemvm4E"
      },
      "outputs": [],
      "source": [
        "result.to_parquet('../dados/parquet/fato_despesa.parquet', engine='pyarrow', compression='snappy')"
      ]
    }
  ],
  "metadata": {
    "kernelspec": {
      "display_name": "base",
      "language": "python",
      "name": "python3"
    },
    "language_info": {
      "codemirror_mode": {
        "name": "ipython",
        "version": 3
      },
      "file_extension": ".py",
      "mimetype": "text/x-python",
      "name": "python",
      "nbconvert_exporter": "python",
      "pygments_lexer": "ipython3",
      "version": "3.10.12"
    },
    "orig_nbformat": 4,
    "colab": {
      "provenance": [],
      "include_colab_link": true
    }
  },
  "nbformat": 4,
  "nbformat_minor": 0
}