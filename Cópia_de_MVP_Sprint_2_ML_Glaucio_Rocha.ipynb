{
  "cells": [
    {
      "cell_type": "markdown",
      "metadata": {
        "id": "view-in-github",
        "colab_type": "text"
      },
      "source": [
        "<a href=\"https://colab.research.google.com/github/glaucio-rocha/ciencia_de_dados/blob/main/C%C3%B3pia_de_MVP_Sprint_2_ML_Glaucio_Rocha.ipynb\" target=\"_parent\"><img src=\"https://colab.research.google.com/assets/colab-badge.svg\" alt=\"Open In Colab\"/></a>"
      ]
    },
    {
      "cell_type": "markdown",
      "id": "864319c2-6a2c-444d-8e2f-e28e6048cb03",
      "metadata": {
        "id": "864319c2-6a2c-444d-8e2f-e28e6048cb03"
      },
      "source": [
        "# MVP Machine Learning e Deep Learning (Sprint 2)\n",
        "## Ciência de Dados & Analytics\n",
        "### Aluno: Glaucio A. Rocha\n",
        "### Entrega: 2023-07-23\n",
        "---"
      ]
    },
    {
      "cell_type": "code",
      "source": [],
      "metadata": {
        "id": "sx6M2dxP4_3o"
      },
      "id": "sx6M2dxP4_3o",
      "execution_count": null,
      "outputs": []
    },
    {
      "cell_type": "markdown",
      "source": [],
      "metadata": {
        "id": "uiQZ3j6M5AU-"
      },
      "id": "uiQZ3j6M5AU-"
    },
    {
      "cell_type": "markdown",
      "id": "5e66a151-ac55-4340-8ff4-fe401b0fbb70",
      "metadata": {
        "id": "5e66a151-ac55-4340-8ff4-fe401b0fbb70"
      },
      "source": [
        "## Parte 1 - Machine Learning"
      ]
    },
    {
      "cell_type": "markdown",
      "id": "a16d8d65-0b8c-46c8-85e4-95f6a23bf1bb",
      "metadata": {
        "id": "a16d8d65-0b8c-46c8-85e4-95f6a23bf1bb"
      },
      "source": [
        "### 1.1 Definição do Problema\n",
        "#### 1.1.1 Descrição do problema\n",
        "\n",
        "#### 1.1.2 Premissas e hipóteses\n",
        "\n",
        "#### 1.1.3 Restrições e condições\n",
        "\n"
      ]
    },
    {
      "cell_type": "markdown",
      "id": "26b3d660-3b2c-4406-a6c5-5895cf8b7e2e",
      "metadata": {
        "id": "26b3d660-3b2c-4406-a6c5-5895cf8b7e2e"
      },
      "source": [
        "#### 1.1.4 Descrição do dataset"
      ]
    },
    {
      "cell_type": "code",
      "execution_count": 3,
      "id": "586afb8d-4821-44e9-8a37-d7f68faed40e",
      "metadata": {
        "id": "586afb8d-4821-44e9-8a37-d7f68faed40e"
      },
      "outputs": [],
      "source": [
        "# Preparação do ambiente\n",
        "import warnings\n",
        "warnings.filterwarnings(\"ignore\")\n",
        "\n",
        "# Imports necessários\n",
        "import pandas as pd\n",
        "import numpy as np\n",
        "import matplotlib.pyplot as plt\n",
        "import seaborn as sns\n",
        "from sklearn.preprocessing import StandardScaler\n",
        "from sklearn.preprocessing import MinMaxScaler\n",
        "from sklearn.model_selection import train_test_split\n",
        "from sklearn.model_selection import KFold\n",
        "from sklearn.model_selection import StratifiedKFold\n",
        "from sklearn.model_selection import cross_val_score\n",
        "from sklearn.model_selection import GridSearchCV\n",
        "from sklearn.metrics import accuracy_score\n",
        "from sklearn.pipeline import Pipeline\n",
        "from joblib import parallel_backend\n"
      ]
    },
    {
      "cell_type": "code",
      "execution_count": 11,
      "id": "6ff8657f-eef9-445a-9f09-dc8728532953",
      "metadata": {
        "id": "6ff8657f-eef9-445a-9f09-dc8728532953",
        "outputId": "aed33299-d1b4-4569-a5b9-9611228fa4f9",
        "colab": {
          "base_uri": "https://localhost:8080/",
          "height": 206
        }
      },
      "outputs": [
        {
          "output_type": "execute_result",
          "data": {
            "text/plain": [
              "   label    GLCM_Pan      Mean_G      Mean_R    Mean_NIR     SD_Pan\n",
              "0      0  109.828571  183.700000   82.950000  251.750000  16.079412\n",
              "1      0  130.284483  212.637931   96.896552  482.396552  21.210295\n",
              "2      0  131.386555  185.466667   85.466667  419.666667  13.339998\n",
              "3      0  141.345098  180.875000   81.500000  348.062500  18.213577\n",
              "4      1  121.383408  218.357143  112.017857  426.607143  19.083196"
            ],
            "text/html": [
              "\n",
              "\n",
              "  <div id=\"df-5a10a5d2-bd5a-4398-9e3d-4e6cbb0e1ecf\">\n",
              "    <div class=\"colab-df-container\">\n",
              "      <div>\n",
              "<style scoped>\n",
              "    .dataframe tbody tr th:only-of-type {\n",
              "        vertical-align: middle;\n",
              "    }\n",
              "\n",
              "    .dataframe tbody tr th {\n",
              "        vertical-align: top;\n",
              "    }\n",
              "\n",
              "    .dataframe thead th {\n",
              "        text-align: right;\n",
              "    }\n",
              "</style>\n",
              "<table border=\"1\" class=\"dataframe\">\n",
              "  <thead>\n",
              "    <tr style=\"text-align: right;\">\n",
              "      <th></th>\n",
              "      <th>label</th>\n",
              "      <th>GLCM_Pan</th>\n",
              "      <th>Mean_G</th>\n",
              "      <th>Mean_R</th>\n",
              "      <th>Mean_NIR</th>\n",
              "      <th>SD_Pan</th>\n",
              "    </tr>\n",
              "  </thead>\n",
              "  <tbody>\n",
              "    <tr>\n",
              "      <th>0</th>\n",
              "      <td>0</td>\n",
              "      <td>109.828571</td>\n",
              "      <td>183.700000</td>\n",
              "      <td>82.950000</td>\n",
              "      <td>251.750000</td>\n",
              "      <td>16.079412</td>\n",
              "    </tr>\n",
              "    <tr>\n",
              "      <th>1</th>\n",
              "      <td>0</td>\n",
              "      <td>130.284483</td>\n",
              "      <td>212.637931</td>\n",
              "      <td>96.896552</td>\n",
              "      <td>482.396552</td>\n",
              "      <td>21.210295</td>\n",
              "    </tr>\n",
              "    <tr>\n",
              "      <th>2</th>\n",
              "      <td>0</td>\n",
              "      <td>131.386555</td>\n",
              "      <td>185.466667</td>\n",
              "      <td>85.466667</td>\n",
              "      <td>419.666667</td>\n",
              "      <td>13.339998</td>\n",
              "    </tr>\n",
              "    <tr>\n",
              "      <th>3</th>\n",
              "      <td>0</td>\n",
              "      <td>141.345098</td>\n",
              "      <td>180.875000</td>\n",
              "      <td>81.500000</td>\n",
              "      <td>348.062500</td>\n",
              "      <td>18.213577</td>\n",
              "    </tr>\n",
              "    <tr>\n",
              "      <th>4</th>\n",
              "      <td>1</td>\n",
              "      <td>121.383408</td>\n",
              "      <td>218.357143</td>\n",
              "      <td>112.017857</td>\n",
              "      <td>426.607143</td>\n",
              "      <td>19.083196</td>\n",
              "    </tr>\n",
              "  </tbody>\n",
              "</table>\n",
              "</div>\n",
              "      <button class=\"colab-df-convert\" onclick=\"convertToInteractive('df-5a10a5d2-bd5a-4398-9e3d-4e6cbb0e1ecf')\"\n",
              "              title=\"Convert this dataframe to an interactive table.\"\n",
              "              style=\"display:none;\">\n",
              "\n",
              "  <svg xmlns=\"http://www.w3.org/2000/svg\" height=\"24px\"viewBox=\"0 0 24 24\"\n",
              "       width=\"24px\">\n",
              "    <path d=\"M0 0h24v24H0V0z\" fill=\"none\"/>\n",
              "    <path d=\"M18.56 5.44l.94 2.06.94-2.06 2.06-.94-2.06-.94-.94-2.06-.94 2.06-2.06.94zm-11 1L8.5 8.5l.94-2.06 2.06-.94-2.06-.94L8.5 2.5l-.94 2.06-2.06.94zm10 10l.94 2.06.94-2.06 2.06-.94-2.06-.94-.94-2.06-.94 2.06-2.06.94z\"/><path d=\"M17.41 7.96l-1.37-1.37c-.4-.4-.92-.59-1.43-.59-.52 0-1.04.2-1.43.59L10.3 9.45l-7.72 7.72c-.78.78-.78 2.05 0 2.83L4 21.41c.39.39.9.59 1.41.59.51 0 1.02-.2 1.41-.59l7.78-7.78 2.81-2.81c.8-.78.8-2.07 0-2.86zM5.41 20L4 18.59l7.72-7.72 1.47 1.35L5.41 20z\"/>\n",
              "  </svg>\n",
              "      </button>\n",
              "\n",
              "\n",
              "\n",
              "    <div id=\"df-89fdd401-f309-42ae-9fa3-18fd8651f8e0\">\n",
              "      <button class=\"colab-df-quickchart\" onclick=\"quickchart('df-89fdd401-f309-42ae-9fa3-18fd8651f8e0')\"\n",
              "              title=\"Suggest charts.\"\n",
              "              style=\"display:none;\">\n",
              "\n",
              "<svg xmlns=\"http://www.w3.org/2000/svg\" height=\"24px\"viewBox=\"0 0 24 24\"\n",
              "     width=\"24px\">\n",
              "    <g>\n",
              "        <path d=\"M19 3H5c-1.1 0-2 .9-2 2v14c0 1.1.9 2 2 2h14c1.1 0 2-.9 2-2V5c0-1.1-.9-2-2-2zM9 17H7v-7h2v7zm4 0h-2V7h2v10zm4 0h-2v-4h2v4z\"/>\n",
              "    </g>\n",
              "</svg>\n",
              "      </button>\n",
              "    </div>\n",
              "\n",
              "<style>\n",
              "  .colab-df-quickchart {\n",
              "    background-color: #E8F0FE;\n",
              "    border: none;\n",
              "    border-radius: 50%;\n",
              "    cursor: pointer;\n",
              "    display: none;\n",
              "    fill: #1967D2;\n",
              "    height: 32px;\n",
              "    padding: 0 0 0 0;\n",
              "    width: 32px;\n",
              "  }\n",
              "\n",
              "  .colab-df-quickchart:hover {\n",
              "    background-color: #E2EBFA;\n",
              "    box-shadow: 0px 1px 2px rgba(60, 64, 67, 0.3), 0px 1px 3px 1px rgba(60, 64, 67, 0.15);\n",
              "    fill: #174EA6;\n",
              "  }\n",
              "\n",
              "  [theme=dark] .colab-df-quickchart {\n",
              "    background-color: #3B4455;\n",
              "    fill: #D2E3FC;\n",
              "  }\n",
              "\n",
              "  [theme=dark] .colab-df-quickchart:hover {\n",
              "    background-color: #434B5C;\n",
              "    box-shadow: 0px 1px 3px 1px rgba(0, 0, 0, 0.15);\n",
              "    filter: drop-shadow(0px 1px 2px rgba(0, 0, 0, 0.3));\n",
              "    fill: #FFFFFF;\n",
              "  }\n",
              "</style>\n",
              "\n",
              "    <script>\n",
              "      async function quickchart(key) {\n",
              "        const containerElement = document.querySelector('#' + key);\n",
              "        const charts = await google.colab.kernel.invokeFunction(\n",
              "            'suggestCharts', [key], {});\n",
              "      }\n",
              "    </script>\n",
              "\n",
              "      <script>\n",
              "\n",
              "function displayQuickchartButton(domScope) {\n",
              "  let quickchartButtonEl =\n",
              "    domScope.querySelector('#df-89fdd401-f309-42ae-9fa3-18fd8651f8e0 button.colab-df-quickchart');\n",
              "  quickchartButtonEl.style.display =\n",
              "    google.colab.kernel.accessAllowed ? 'block' : 'none';\n",
              "}\n",
              "\n",
              "        displayQuickchartButton(document);\n",
              "      </script>\n",
              "      <style>\n",
              "    .colab-df-container {\n",
              "      display:flex;\n",
              "      flex-wrap:wrap;\n",
              "      gap: 12px;\n",
              "    }\n",
              "\n",
              "    .colab-df-convert {\n",
              "      background-color: #E8F0FE;\n",
              "      border: none;\n",
              "      border-radius: 50%;\n",
              "      cursor: pointer;\n",
              "      display: none;\n",
              "      fill: #1967D2;\n",
              "      height: 32px;\n",
              "      padding: 0 0 0 0;\n",
              "      width: 32px;\n",
              "    }\n",
              "\n",
              "    .colab-df-convert:hover {\n",
              "      background-color: #E2EBFA;\n",
              "      box-shadow: 0px 1px 2px rgba(60, 64, 67, 0.3), 0px 1px 3px 1px rgba(60, 64, 67, 0.15);\n",
              "      fill: #174EA6;\n",
              "    }\n",
              "\n",
              "    [theme=dark] .colab-df-convert {\n",
              "      background-color: #3B4455;\n",
              "      fill: #D2E3FC;\n",
              "    }\n",
              "\n",
              "    [theme=dark] .colab-df-convert:hover {\n",
              "      background-color: #434B5C;\n",
              "      box-shadow: 0px 1px 3px 1px rgba(0, 0, 0, 0.15);\n",
              "      filter: drop-shadow(0px 1px 2px rgba(0, 0, 0, 0.3));\n",
              "      fill: #FFFFFF;\n",
              "    }\n",
              "  </style>\n",
              "\n",
              "      <script>\n",
              "        const buttonEl =\n",
              "          document.querySelector('#df-5a10a5d2-bd5a-4398-9e3d-4e6cbb0e1ecf button.colab-df-convert');\n",
              "        buttonEl.style.display =\n",
              "          google.colab.kernel.accessAllowed ? 'block' : 'none';\n",
              "\n",
              "        async function convertToInteractive(key) {\n",
              "          const element = document.querySelector('#df-5a10a5d2-bd5a-4398-9e3d-4e6cbb0e1ecf');\n",
              "          const dataTable =\n",
              "            await google.colab.kernel.invokeFunction('convertToInteractive',\n",
              "                                                     [key], {});\n",
              "          if (!dataTable) return;\n",
              "\n",
              "          const docLinkHtml = 'Like what you see? Visit the ' +\n",
              "            '<a target=\"_blank\" href=https://colab.research.google.com/notebooks/data_table.ipynb>data table notebook</a>'\n",
              "            + ' to learn more about interactive tables.';\n",
              "          element.innerHTML = '';\n",
              "          dataTable['output_type'] = 'display_data';\n",
              "          await google.colab.output.renderOutput(dataTable, element);\n",
              "          const docLink = document.createElement('div');\n",
              "          docLink.innerHTML = docLinkHtml;\n",
              "          element.appendChild(docLink);\n",
              "        }\n",
              "      </script>\n",
              "    </div>\n",
              "  </div>\n"
            ]
          },
          "metadata": {},
          "execution_count": 11
        }
      ],
      "source": [
        "# Importação do dataset\n",
        "url = \"https://raw.githubusercontent.com/anushamanur/Wilt/master/training.csv\"\n",
        "url2 = \"https://raw.githubusercontent.com/anushamanur/Wilt/master/testing.csv\"\n",
        "\n",
        "colunas = ['label','GLCM_Pan','Mean_G','Mean_R','Mean_NIR','SD_Pan']\n",
        "\n",
        "\n",
        "# Lê o arquivo\n",
        "dataset = pd.read_csv(url, header=None, names=colunas)\n",
        "dataset2 = pd.read_csv(url2, header=None, names=colunas)\n",
        "\n",
        "dataset2.head()"
      ]
    },
    {
      "cell_type": "markdown",
      "id": "98b7a26d-6773-4bd8-bcc4-2451c05e68de",
      "metadata": {
        "id": "98b7a26d-6773-4bd8-bcc4-2451c05e68de"
      },
      "source": [
        "### 1.2 Preparação dos dados\n",
        "\n"
      ]
    },
    {
      "cell_type": "markdown",
      "id": "4d0e3038-a98c-4d8e-9d61-a8ce8330d672",
      "metadata": {
        "id": "4d0e3038-a98c-4d8e-9d61-a8ce8330d672"
      },
      "source": [
        "#### 1.2.1 Separação dos dados (treino e teste)"
      ]
    },
    {
      "cell_type": "code",
      "execution_count": 12,
      "id": "8826c4bc-c37f-40c8-a763-07d973b8b8b4",
      "metadata": {
        "id": "8826c4bc-c37f-40c8-a763-07d973b8b8b4"
      },
      "outputs": [],
      "source": [
        "test_size = 0.30 # tamanho do conjunto de teste\n",
        "seed = 7 # semente aleatória\n",
        "\n",
        "X_train = dataset.iloc[:, 1:]  # Todas as colunas, exceto a primeira (alvo)\n",
        "y_train = dataset.iloc[:, 0]   # Primeira coluna (alvo)\n",
        "\n",
        "X_test = dataset2.iloc[:, 1:]  # Todas as colunas, exceto a primeira (alvo)\n",
        "y_test = dataset2.iloc[:, 0]   # Primeira coluna (alvo)\n",
        "\n",
        "\n",
        "# Criar conjuntos de treino e teste usando train_test_split do sklearn\n",
        "# Vamos usar 80% dos dados para treino e 20% para teste, mas você pode ajustar esses valores conforme necessário.\n",
        "# X_train, X_test, y_train, y_test = train_test_split(X, y, test_size=test_size, random_state=seed)\n",
        "\n",
        "\n",
        "# Parâmetros e partições da validação cruzada\n",
        "scoring = 'recall'\n",
        "num_particoes = 5\n",
        "kfold = StratifiedKFold(n_splits=num_particoes, shuffle=True, random_state=seed) # validação cruzada com estratificação"
      ]
    },
    {
      "cell_type": "code",
      "execution_count": 14,
      "id": "7c30c4fe-c72b-4465-8ddb-c73167aafb36",
      "metadata": {
        "id": "7c30c4fe-c72b-4465-8ddb-c73167aafb36",
        "outputId": "050c87ed-bc8e-4883-b59e-bdc09cc69d90",
        "colab": {
          "base_uri": "https://localhost:8080/"
        }
      },
      "outputs": [
        {
          "output_type": "execute_result",
          "data": {
            "text/plain": [
              "0       1\n",
              "1       1\n",
              "2       1\n",
              "3       1\n",
              "4       1\n",
              "       ..\n",
              "4334    0\n",
              "4335    0\n",
              "4336    0\n",
              "4337    0\n",
              "4338    0\n",
              "Name: label, Length: 4339, dtype: int64"
            ]
          },
          "metadata": {},
          "execution_count": 14
        }
      ],
      "source": [
        "y_train\n"
      ]
    },
    {
      "cell_type": "markdown",
      "id": "2c98c0f4-c8b5-4a64-a67a-fdb73f91f1d1",
      "metadata": {
        "id": "2c98c0f4-c8b5-4a64-a67a-fdb73f91f1d1"
      },
      "source": [
        "#### 1.2.2 Validação cruzada"
      ]
    },
    {
      "cell_type": "markdown",
      "id": "f525e07d-ed48-4aa6-93a3-d713ae49d4c2",
      "metadata": {
        "id": "f525e07d-ed48-4aa6-93a3-d713ae49d4c2"
      },
      "source": [
        "#### 1.2.3 Transformação de dados"
      ]
    },
    {
      "cell_type": "markdown",
      "id": "e80d8563-a478-4119-8368-734372737b74",
      "metadata": {
        "id": "e80d8563-a478-4119-8368-734372737b74"
      },
      "source": [
        "#### 1.2.4 _Feature selection_"
      ]
    },
    {
      "cell_type": "markdown",
      "id": "e5201b59-a37f-4120-b718-80d122a4d581",
      "metadata": {
        "id": "e5201b59-a37f-4120-b718-80d122a4d581"
      },
      "source": [
        "### 1.3 Modelagem e treinamento\n",
        "\n"
      ]
    },
    {
      "cell_type": "markdown",
      "id": "dd7a65e0-9746-400c-8959-cc4f1671950c",
      "metadata": {
        "id": "dd7a65e0-9746-400c-8959-cc4f1671950c"
      },
      "source": [
        "#### 1.3.1 Seleção de algoritmos"
      ]
    },
    {
      "cell_type": "code",
      "execution_count": 15,
      "id": "c0214932-c51f-402b-aa9e-3190543b4bdf",
      "metadata": {
        "id": "c0214932-c51f-402b-aa9e-3190543b4bdf"
      },
      "outputs": [],
      "source": [
        "from sklearn.linear_model import LogisticRegression\n",
        "from sklearn.tree import DecisionTreeClassifier\n",
        "from sklearn.neighbors import KNeighborsClassifier\n",
        "from sklearn.naive_bayes import GaussianNB\n",
        "from sklearn.svm import SVC\n",
        "# from sklearn.ensemble import BaggingClassifier\n",
        "from sklearn.ensemble import RandomForestClassifier\n",
        "from sklearn.ensemble import ExtraTreesClassifier\n",
        "# from sklearn.ensemble import VotingClassifier\n",
        "from sklearn.ensemble import AdaBoostClassifier\n",
        "from sklearn.ensemble import GradientBoostingClassifier"
      ]
    },
    {
      "cell_type": "code",
      "execution_count": 16,
      "id": "fddf22de-2a42-4694-baff-c39b9138f437",
      "metadata": {
        "id": "fddf22de-2a42-4694-baff-c39b9138f437",
        "outputId": "2329f842-d5f1-40c7-8d53-3b4590824c27",
        "colab": {
          "base_uri": "https://localhost:8080/",
          "height": 1000
        }
      },
      "outputs": [
        {
          "output_type": "stream",
          "name": "stdout",
          "text": [
            "LR: 0.605714 (0.172757)\n",
            "KNN: 0.542857 (0.123883)\n",
            "CART: 0.725714 (0.185790)\n",
            "NB: 0.243810 (0.055729)\n",
            "SVM: 0.000000 (0.000000)\n",
            "RF: 0.685714 (0.131138)\n",
            "ET: 0.702857 (0.066911)\n",
            "Ada: 0.740952 (0.136081)\n",
            "GB: 0.768571 (0.075689)\n"
          ]
        },
        {
          "output_type": "display_data",
          "data": {
            "text/plain": [
              "<Figure size 1500x1000 with 1 Axes>"
            ],
            "image/png": "[encoded data removed]"
          },
          "metadata": {}
        }
      ],
      "source": [
        "np.random.seed(seed) # definindo uma semente global\n",
        "\n",
        "# Lista que armazenará os modelos\n",
        "models = []\n",
        "\n",
        "# Criando os modelos e adicionando-os na lista de modelos\n",
        "models.append(('LR', LogisticRegression(max_iter=200)))\n",
        "models.append(('KNN', KNeighborsClassifier()))\n",
        "models.append(('CART', DecisionTreeClassifier()))\n",
        "models.append(('NB', GaussianNB()))\n",
        "models.append(('SVM', SVC()))\n",
        "\n",
        "num_trees = 100\n",
        "max_features = 3\n",
        "\n",
        "# Criando os ensembles e adicionando-os na lista de modelos\n",
        "#models.append(('Bagging', BaggingClassifier(base_estimator=base, n_estimators=num_trees)))\n",
        "models.append(('RF', RandomForestClassifier(n_estimators=num_trees, max_features=max_features)))\n",
        "models.append(('ET', ExtraTreesClassifier(n_estimators=num_trees, max_features=max_features)))\n",
        "models.append(('Ada', AdaBoostClassifier(n_estimators=num_trees)))\n",
        "models.append(('GB', GradientBoostingClassifier(n_estimators=num_trees)))\n",
        "#models.append(('Voting', VotingClassifier(bases)))\n",
        "\n",
        "# Listas para armazenar os resultados\n",
        "results = []\n",
        "names = []\n",
        "\n",
        "# Avaliação dos modelos\n",
        "for name, model in models:\n",
        "      cv_results = cross_val_score(model, X_train, y_train, cv=kfold, scoring=scoring)\n",
        "      results.append(cv_results)\n",
        "      names.append(name)\n",
        "      msg = \"%s: %f (%f)\" % (name, cv_results.mean(), cv_results.std())\n",
        "      print(msg)\n",
        "\n",
        "# Boxplot de comparação dos modelos\n",
        "fig = plt.figure(figsize=(15,10))\n",
        "fig.suptitle('Comparação dos Modelos')\n",
        "ax = fig.add_subplot(111)\n",
        "plt.boxplot(results)\n",
        "ax.set_xticklabels(names)\n",
        "plt.show()\n"
      ]
    },
    {
      "cell_type": "markdown",
      "id": "b06e30c6-860e-4824-ba97-7e1fcac9a6af",
      "metadata": {
        "id": "b06e30c6-860e-4824-ba97-7e1fcac9a6af"
      },
      "source": [
        "#### 1.3.2 Avaliação do treinamento"
      ]
    },
    {
      "cell_type": "markdown",
      "id": "d7e2398d-2ae1-4c8b-969c-e7d6ae5fb48f",
      "metadata": {
        "id": "d7e2398d-2ae1-4c8b-969c-e7d6ae5fb48f"
      },
      "source": [
        "#### 1.3.3 Otimização de hiperparâmetros"
      ]
    },
    {
      "cell_type": "code",
      "execution_count": 21,
      "id": "17b33813-9085-4b56-a02a-a889c01c39aa",
      "metadata": {
        "id": "17b33813-9085-4b56-a02a-a889c01c39aa",
        "outputId": "45164ceb-81cb-47da-e282-e07f1ff8cc4d",
        "colab": {
          "base_uri": "https://localhost:8080/"
        }
      },
      "outputs": [
        {
          "output_type": "stream",
          "name": "stdout",
          "text": [
            "Sem tratamento de missings: GB-orig - Melhor: 0.740952 usando {'GB__learning_rate': 0.025, 'GB__max_depth': 3, 'GB__max_features': 'sqrt', 'GB__min_samples_split': 3, 'GB__n_estimators': 1200, 'GB__subsample': 0.8}\n",
            "Sem tratamento de missings: GB-padr - Melhor: 0.728571 usando {'GB__learning_rate': 0.025, 'GB__max_depth': 3, 'GB__max_features': 'log2', 'GB__min_samples_split': 2, 'GB__n_estimators': 1000, 'GB__subsample': 0.8}\n",
            "Sem tratamento de missings: GB-norm - Melhor: 0.727619 usando {'GB__learning_rate': 0.025, 'GB__max_depth': 3, 'GB__max_features': 'log2', 'GB__min_samples_split': 3, 'GB__n_estimators': 800, 'GB__subsample': 0.8}\n"
          ]
        }
      ],
      "source": [
        "# Tuning do RF\n",
        "\n",
        "np.random.seed(7) # definindo uma semente global para este bloco\n",
        "\n",
        "pipelines = []\n",
        "\n",
        "# Definindo os componentes do pipeline\n",
        "# ada = ('Ada', AdaBoostClassifier())\n",
        "\n",
        "gb = ('GB', GradientBoostingClassifier())\n",
        "standard_scaler = ('StandardScaler', StandardScaler())\n",
        "min_max_scaler = ('MinMaxScaler', MinMaxScaler())\n",
        "\n",
        "pipelines.append(('GB-orig', Pipeline(steps=[gb])))\n",
        "pipelines.append(('GB-padr', Pipeline(steps=[standard_scaler, gb])))\n",
        "pipelines.append(('GB-norm', Pipeline(steps=[min_max_scaler, gb])))\n",
        "\n",
        "# param_grid = {\n",
        "#     'RF__n_estimators': [10, 50, 100]      # Número de árvores na floresta\n",
        "#  }\n",
        "\n",
        "param_grid = {\"GB__n_estimators\": [800, 900, 1000, 1200],\n",
        "              \"GB__max_depth\": [2, 3],\n",
        "              \"GB__subsample\": [0.6, 0.7, 0.8],\n",
        "              \"GB__min_samples_split\": [2, 3],\n",
        "              \"GB__max_features\": [\"sqrt\", \"log2\"],\n",
        "              \"GB__learning_rate\": [0.01, 0.015, 0.018, 0.02, 0.025]}\n",
        "\n",
        "\n",
        "# param_grid = {\n",
        "#     'Ada__n_estimators': [50, 100, 150],      # Número de estimadores no AdaBoost\n",
        "#     'Ada__learning_rate': [0.1, 0.5, 1.0],    # Taxa de aprendizado para cada estimador\n",
        "#     # 'Ada__base_estimator': [None],            # Classificador base (padrão é DecisionTreeClassifier)\n",
        "#     'Ada__algorithm': ['SAMME', 'SAMME.R'],    # Algoritmo para atualizar os pesos das amostras\n",
        "#     'Ada__random_state': [42]                 # Semente aleatória para reprodutibilidade\n",
        "# }\n",
        "\n",
        "# param_grid = {\n",
        "#     'RF__n_estimators': [10, 50, 100],      # Número de árvores na floresta\n",
        "#     'RF__max_features': ['auto', 'sqrt',2,3],   # Número máximo de features a considerar em cada split\n",
        "#     'RF__max_depth': [2, 3, 5]              # Profundidade máxima da árvore\n",
        "# }\n",
        "\n",
        "# Prepara e executa o GridSearchCV\n",
        "for name, model in pipelines:\n",
        "    grid = GridSearchCV(estimator=model, param_grid=param_grid, scoring=scoring, cv=kfold, n_jobs=10)\n",
        "    grid.fit(X_train, y_train)\n",
        "    # imprime a melhor configuração\n",
        "    print(\"Sem tratamento de missings: %s - Melhor: %f usando %s\" % (name, grid.best_score_, grid.best_params_))"
      ]
    },
    {
      "cell_type": "markdown",
      "id": "b7eb8d0c-db2c-428d-8b87-efcea0913421",
      "metadata": {
        "id": "b7eb8d0c-db2c-428d-8b87-efcea0913421"
      },
      "source": [
        "### 1.4 Análise de Resultados"
      ]
    },
    {
      "cell_type": "markdown",
      "id": "7e9666e5-29d2-4db2-8a34-2d99b5596291",
      "metadata": {
        "id": "7e9666e5-29d2-4db2-8a34-2d99b5596291"
      },
      "source": [
        "#### 1.4.1 Métricas de avaliação"
      ]
    },
    {
      "cell_type": "code",
      "source": [
        "from sklearn.metrics import confusion_matrix\n",
        "\n",
        "\n",
        "# model = RandomForestClassifier(max_depth=5, max_features=3, n_estimators=50)\n",
        "# model = ExtraTreesClassifier(n_estimators=num_trees, max_features=max_features)\n",
        "model = AdaBoostClassifier(algorithm =  'SAMME.R', learning_rate = 1.0, n_estimators = 50, random_state = 42)\n",
        "model.fit(X_train, y_train)\n",
        "\n",
        "y_pred = model.predict(X_test)\n",
        "\n",
        "# Calcular a matriz de confusão\n",
        "cm = confusion_matrix(y_test, y_pred)\n",
        "\n",
        "# Criar e plotar a matriz de confusão usando Seaborn\n",
        "plt.figure(figsize=(6, 5))\n",
        "# sns.heatmap(cm, annot=True, fmt=\"d\", cmap=\"Blues\", xticklabels=data.target_names, yticklabels=data.target_names)\n",
        "sns.heatmap(cm, annot=True, fmt=\"d\", cmap=\"Blues\")\n",
        "\n",
        "plt.xlabel('Previsão')\n",
        "plt.ylabel('Valor Real')\n",
        "plt.title('Matriz de Confusão')\n",
        "plt.show()"
      ],
      "metadata": {
        "colab": {
          "base_uri": "https://localhost:8080/",
          "height": 487
        },
        "id": "HnSs2xjG9tFc",
        "outputId": "e1ce5779-8d5b-4f7e-ca33-7021bae2e773"
      },
      "id": "HnSs2xjG9tFc",
      "execution_count": null,
      "outputs": [
        {
          "output_type": "display_data",
          "data": {
            "text/plain": [
              "<Figure size 600x500 with 2 Axes>"
            ],
            "image/png": "[encoded data removed]"
          },
          "metadata": {}
        }
      ]
    },
    {
      "cell_type": "markdown",
      "id": "957e89ab-4c3d-492f-9ac3-ae7bcbebe557",
      "metadata": {
        "id": "957e89ab-4c3d-492f-9ac3-ae7bcbebe557"
      },
      "source": [
        "#### 1.4.2 Teste do modelo"
      ]
    },
    {
      "cell_type": "markdown",
      "id": "74253c0b-3ae3-44ad-b471-2328382d2828",
      "metadata": {
        "id": "74253c0b-3ae3-44ad-b471-2328382d2828"
      },
      "source": [
        "#### 1.4.3 Avaliação do modelo"
      ]
    },
    {
      "cell_type": "markdown",
      "id": "dbd5fcc4-333b-47ae-99fc-65408d2f88f5",
      "metadata": {
        "id": "dbd5fcc4-333b-47ae-99fc-65408d2f88f5"
      },
      "source": [
        "#### 1.4.4 Conclusões"
      ]
    },
    {
      "cell_type": "markdown",
      "id": "d0b7020a-e222-4e50-9441-755d2cfb21af",
      "metadata": {
        "id": "d0b7020a-e222-4e50-9441-755d2cfb21af"
      },
      "source": [
        "#### 1.4.5 Próximos passos"
      ]
    },
    {
      "cell_type": "markdown",
      "id": "aed0392a-a60e-4748-b143-33fa051f286b",
      "metadata": {
        "id": "aed0392a-a60e-4748-b143-33fa051f286b"
      },
      "source": [
        "---"
      ]
    },
    {
      "cell_type": "markdown",
      "id": "463390bb-53a7-43ce-b495-ecaa32e1b6c8",
      "metadata": {
        "id": "463390bb-53a7-43ce-b495-ecaa32e1b6c8"
      },
      "source": [
        "## Parte 2 - Deep Learning"
      ]
    },
    {
      "cell_type": "markdown",
      "id": "045ffd4c-5386-4364-9277-557a5f4c75eb",
      "metadata": {
        "id": "045ffd4c-5386-4364-9277-557a5f4c75eb"
      },
      "source": [
        "### 2.1 Definição do Problema\n",
        "#### 2.1.1 Descrição do problema\n",
        "\n",
        "#### 2.1.2 Premissas e hipóteses\n",
        "\n",
        "#### 2.1.3 Restrições e condições\n",
        "\n"
      ]
    },
    {
      "cell_type": "markdown",
      "id": "f50409c2-f92a-4308-971e-df0b0717b49e",
      "metadata": {
        "id": "f50409c2-f92a-4308-971e-df0b0717b49e"
      },
      "source": [
        "#### 2.1.4 Descrição do dataset"
      ]
    },
    {
      "cell_type": "code",
      "execution_count": null,
      "id": "08faef9a-5d36-495e-96a7-a8eb7e043937",
      "metadata": {
        "id": "08faef9a-5d36-495e-96a7-a8eb7e043937"
      },
      "outputs": [],
      "source": [
        "# Preparação do ambiente (Deep Learning)\n",
        "\n"
      ]
    },
    {
      "cell_type": "code",
      "execution_count": null,
      "id": "5f2ba57a-010a-4afb-a393-004be30bbfd6",
      "metadata": {
        "id": "5f2ba57a-010a-4afb-a393-004be30bbfd6"
      },
      "outputs": [],
      "source": [
        "# Importação do dataset"
      ]
    },
    {
      "cell_type": "code",
      "execution_count": null,
      "id": "e358b293-b7ab-4898-876e-2a2599c859f3",
      "metadata": {
        "id": "e358b293-b7ab-4898-876e-2a2599c859f3"
      },
      "outputs": [],
      "source": []
    },
    {
      "cell_type": "markdown",
      "id": "c153a3ef-b4d6-4be5-aa2d-3f1a59670bd5",
      "metadata": {
        "id": "c153a3ef-b4d6-4be5-aa2d-3f1a59670bd5"
      },
      "source": [
        "### 2.2 Preparação dos dados\n",
        "\n"
      ]
    },
    {
      "cell_type": "markdown",
      "id": "c85aecaa-f21e-4483-9585-539fadcf2d7d",
      "metadata": {
        "id": "c85aecaa-f21e-4483-9585-539fadcf2d7d"
      },
      "source": [
        "#### 2.2.1 Separação dos dados (treino e teste)"
      ]
    },
    {
      "cell_type": "markdown",
      "id": "fc0bc005-13f3-4dc9-bb4e-005a87ae0d28",
      "metadata": {
        "id": "fc0bc005-13f3-4dc9-bb4e-005a87ae0d28"
      },
      "source": [
        "#### 2.2.2 Validação cruzada"
      ]
    },
    {
      "cell_type": "markdown",
      "id": "5a8144fc-f69a-49d7-9ba0-dfd8a167770a",
      "metadata": {
        "id": "5a8144fc-f69a-49d7-9ba0-dfd8a167770a"
      },
      "source": [
        "#### 2.2.3 Transformação de dados"
      ]
    },
    {
      "cell_type": "markdown",
      "id": "720e2ee4-85dd-4962-9924-e9bad78d4dea",
      "metadata": {
        "id": "720e2ee4-85dd-4962-9924-e9bad78d4dea"
      },
      "source": [
        "#### 2.2.4 _Feature selection_"
      ]
    },
    {
      "cell_type": "markdown",
      "id": "25b57ac1-9327-4041-85ad-a713ea922ee8",
      "metadata": {
        "id": "25b57ac1-9327-4041-85ad-a713ea922ee8"
      },
      "source": [
        "### 2.3 Modelagem e treinamento\n",
        "\n"
      ]
    },
    {
      "cell_type": "markdown",
      "id": "5b082a8e-4a82-4308-b659-5f693c7e7411",
      "metadata": {
        "id": "5b082a8e-4a82-4308-b659-5f693c7e7411"
      },
      "source": [
        "#### 2.3.1 Seleção de algoritmos"
      ]
    },
    {
      "cell_type": "markdown",
      "id": "29d6041b-e390-4e35-8f55-6619b85da13f",
      "metadata": {
        "id": "29d6041b-e390-4e35-8f55-6619b85da13f"
      },
      "source": [
        "#### 2.3.2 Avaliação do treinamento"
      ]
    },
    {
      "cell_type": "markdown",
      "id": "4bfd17e5-a693-401f-b24f-de4f5b132cb7",
      "metadata": {
        "id": "4bfd17e5-a693-401f-b24f-de4f5b132cb7"
      },
      "source": [
        "#### 2.3.3 Otimização de hiperparâmetros"
      ]
    },
    {
      "cell_type": "markdown",
      "id": "265ef947-7709-4be3-900a-5ce13e8e44c2",
      "metadata": {
        "id": "265ef947-7709-4be3-900a-5ce13e8e44c2"
      },
      "source": [
        "### 2.4 Análise de Resultados"
      ]
    },
    {
      "cell_type": "markdown",
      "id": "400e5b29-ed4f-4c29-ace8-3eb592ae3e0f",
      "metadata": {
        "id": "400e5b29-ed4f-4c29-ace8-3eb592ae3e0f"
      },
      "source": [
        "#### 2.4.1 Métricas de avaliação"
      ]
    },
    {
      "cell_type": "markdown",
      "id": "3f71ef17-922d-4a2e-8e61-32b43b91acaf",
      "metadata": {
        "id": "3f71ef17-922d-4a2e-8e61-32b43b91acaf"
      },
      "source": [
        "#### 2.4.2 Teste do modelo"
      ]
    },
    {
      "cell_type": "markdown",
      "id": "c3751867-af0c-4faa-9361-58e9f379eecc",
      "metadata": {
        "id": "c3751867-af0c-4faa-9361-58e9f379eecc"
      },
      "source": [
        "#### 2.4.3 Avaliação do modelo"
      ]
    },
    {
      "cell_type": "markdown",
      "id": "511dad30-87aa-4171-bf57-6afa301c7fdb",
      "metadata": {
        "id": "511dad30-87aa-4171-bf57-6afa301c7fdb"
      },
      "source": [
        "#### 2.4.4 Conclusões"
      ]
    },
    {
      "cell_type": "markdown",
      "id": "7a353fc7-aed7-403d-b567-8e8049939fec",
      "metadata": {
        "id": "7a353fc7-aed7-403d-b567-8e8049939fec"
      },
      "source": [
        "#### 2.4.5 Próximos passos"
      ]
    },
    {
      "cell_type": "code",
      "execution_count": null,
      "id": "4d66b081-a301-4b6c-96cc-f44f05287362",
      "metadata": {
        "id": "4d66b081-a301-4b6c-96cc-f44f05287362"
      },
      "outputs": [],
      "source": []
    }
  ],
  "metadata": {
    "kernelspec": {
      "display_name": "Python 3 (ipykernel)",
      "language": "python",
      "name": "python3"
    },
    "language_info": {
      "codemirror_mode": {
        "name": "ipython",
        "version": 3
      },
      "file_extension": ".py",
      "mimetype": "text/x-python",
      "name": "python",
      "nbconvert_exporter": "python",
      "pygments_lexer": "ipython3",
      "version": "3.10.12"
    },
    "colab": {
      "provenance": [],
      "include_colab_link": true
    }
  },
  "nbformat": 4,
  "nbformat_minor": 5
}